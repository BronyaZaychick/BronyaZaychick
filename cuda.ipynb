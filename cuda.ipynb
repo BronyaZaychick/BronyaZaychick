{
 "cells": [
  {
   "cell_type": "code",
   "execution_count": 1,
   "metadata": {},
   "outputs": [
    {
     "name": "stdout",
     "output_type": "stream",
     "text": [
      "True\n",
      "12.8\n"
     ]
    }
   ],
   "source": [
    "import torch\n",
    "print(torch.cuda.is_available())  # 应返回 True\n",
    "print(torch.version.cuda)         # 应显示 12.1（但实际会调用你的 12.7 驱动）"
   ]
  },
  {
   "cell_type": "code",
   "execution_count": 1,
   "metadata": {},
   "outputs": [
    {
     "name": "stdout",
     "output_type": "stream",
     "text": [
      "PyTorch 版本: 2.7.0+cu128\n"
     ]
    }
   ],
   "source": [
    "import torch\n",
    "print(\"PyTorch 版本:\", torch.__version__)"
   ]
  },
  {
   "cell_type": "code",
   "execution_count": 1,
   "metadata": {},
   "outputs": [
    {
     "name": "stdout",
     "output_type": "stream",
     "text": [
      "\n",
      "======= 系统信息 =======\n",
      "操作系统: Windows 10\n",
      "处理器: Intel64 Family 6 Model 154 Stepping 3, GenuineIntel\n",
      "\n",
      "======= 内存信息 =======\n",
      "物理内存: 8.0 GB\n",
      "\n",
      "======= GPU信息 =======\n",
      "GPU型号: NVIDIA GeForce RTX 3060 Laptop GPU\n",
      "PyTorch CUDA版本: 12.8\n",
      "\n",
      "======= 软件版本 =======\n",
      "PyTorch版本: 2.7.0+cu128\n"
     ]
    }
   ],
   "source": [
    "import torch, platform, subprocess\n",
    "\n",
    "print(\"\\n======= 系统信息 =======\")\n",
    "print(f\"操作系统: {platform.system()} {platform.release()}\")\n",
    "print(f\"处理器: {platform.processor()}\")\n",
    "\n",
    "print(\"\\n======= 内存信息 =======\")\n",
    "if platform.system() == \"Windows\":\n",
    "    mem = subprocess.check_output('wmic memorychip get capacity', shell=True).decode().split('\\n')[1]\n",
    "    print(f\"物理内存: {round(int(mem.strip())/1024**3, 1)} GB\")\n",
    "else:\n",
    "    mem = subprocess.check_output('sysctl hw.memsize', shell=True).decode().split()[-1]\n",
    "    print(f\"物理内存: {round(int(mem)/1024**3, 1)} GB\")\n",
    "\n",
    "print(\"\\n======= GPU信息 =======\")\n",
    "if torch.cuda.is_available():\n",
    "    print(f\"GPU型号: {torch.cuda.get_device_name(0)}\")\n",
    "    print(f\"PyTorch CUDA版本: {torch.version.cuda}\")\n",
    "else:\n",
    "    print(\"未检测到CUDA设备\")\n",
    "\n",
    "print(\"\\n======= 软件版本 =======\")\n",
    "print(f\"PyTorch版本: {torch.__version__}\")"
   ]
  }
 ],
 "metadata": {
  "kernelspec": {
   "display_name": "Python 3",
   "language": "python",
   "name": "python3"
  },
  "language_info": {
   "codemirror_mode": {
    "name": "ipython",
    "version": 3
   },
   "file_extension": ".py",
   "mimetype": "text/x-python",
   "name": "python",
   "nbconvert_exporter": "python",
   "pygments_lexer": "ipython3",
   "version": "3.11.9"
  }
 },
 "nbformat": 4,
 "nbformat_minor": 2
}
