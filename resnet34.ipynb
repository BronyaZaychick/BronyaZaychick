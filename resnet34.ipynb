{
 "cells": [
  {
   "cell_type": "code",
   "execution_count": null,
   "metadata": {},
   "outputs": [
    {
     "name": "stderr",
     "output_type": "stream",
     "text": [
      "C:\\Users\\30419\\AppData\\Local\\Packages\\PythonSoftwareFoundation.Python.3.11_qbz5n2kfra8p0\\LocalCache\\local-packages\\Python311\\site-packages\\torchvision\\models\\_utils.py:208: UserWarning: The parameter 'pretrained' is deprecated since 0.13 and may be removed in the future, please use 'weights' instead.\n",
      "  warnings.warn(\n",
      "C:\\Users\\30419\\AppData\\Local\\Packages\\PythonSoftwareFoundation.Python.3.11_qbz5n2kfra8p0\\LocalCache\\local-packages\\Python311\\site-packages\\torchvision\\models\\_utils.py:223: UserWarning: Arguments other than a weight enum or `None` for 'weights' are deprecated since 0.13 and may be removed in the future. The current behavior is equivalent to passing `weights=ResNet34_Weights.IMAGENET1K_V1`. You can also use `weights=ResNet34_Weights.DEFAULT` to get the most up-to-date weights.\n",
      "  warnings.warn(msg)\n"
     ]
    },
    {
     "ename": "KeyboardInterrupt",
     "evalue": "",
     "output_type": "error",
     "traceback": [
      "\u001b[1;31m---------------------------------------------------------------------------\u001b[0m",
      "\u001b[1;31mKeyboardInterrupt\u001b[0m                         Traceback (most recent call last)",
      "Cell \u001b[1;32mIn[1], line 50\u001b[0m\n\u001b[0;32m     48\u001b[0m outputs \u001b[38;5;241m=\u001b[39m model(inputs)\n\u001b[0;32m     49\u001b[0m loss \u001b[38;5;241m=\u001b[39m criterion(outputs, labels)\n\u001b[1;32m---> 50\u001b[0m \u001b[43mloss\u001b[49m\u001b[38;5;241;43m.\u001b[39;49m\u001b[43mbackward\u001b[49m\u001b[43m(\u001b[49m\u001b[43m)\u001b[49m\n\u001b[0;32m     51\u001b[0m optimizer\u001b[38;5;241m.\u001b[39mstep()\n\u001b[0;32m     53\u001b[0m running_loss \u001b[38;5;241m+\u001b[39m\u001b[38;5;241m=\u001b[39m loss\u001b[38;5;241m.\u001b[39mitem()\n",
      "File \u001b[1;32m~\\AppData\\Local\\Packages\\PythonSoftwareFoundation.Python.3.11_qbz5n2kfra8p0\\LocalCache\\local-packages\\Python311\\site-packages\\torch\\_tensor.py:626\u001b[0m, in \u001b[0;36mTensor.backward\u001b[1;34m(self, gradient, retain_graph, create_graph, inputs)\u001b[0m\n\u001b[0;32m    616\u001b[0m \u001b[38;5;28;01mif\u001b[39;00m has_torch_function_unary(\u001b[38;5;28mself\u001b[39m):\n\u001b[0;32m    617\u001b[0m     \u001b[38;5;28;01mreturn\u001b[39;00m handle_torch_function(\n\u001b[0;32m    618\u001b[0m         Tensor\u001b[38;5;241m.\u001b[39mbackward,\n\u001b[0;32m    619\u001b[0m         (\u001b[38;5;28mself\u001b[39m,),\n\u001b[1;32m   (...)\u001b[0m\n\u001b[0;32m    624\u001b[0m         inputs\u001b[38;5;241m=\u001b[39minputs,\n\u001b[0;32m    625\u001b[0m     )\n\u001b[1;32m--> 626\u001b[0m \u001b[43mtorch\u001b[49m\u001b[38;5;241;43m.\u001b[39;49m\u001b[43mautograd\u001b[49m\u001b[38;5;241;43m.\u001b[39;49m\u001b[43mbackward\u001b[49m\u001b[43m(\u001b[49m\n\u001b[0;32m    627\u001b[0m \u001b[43m    \u001b[49m\u001b[38;5;28;43mself\u001b[39;49m\u001b[43m,\u001b[49m\u001b[43m \u001b[49m\u001b[43mgradient\u001b[49m\u001b[43m,\u001b[49m\u001b[43m \u001b[49m\u001b[43mretain_graph\u001b[49m\u001b[43m,\u001b[49m\u001b[43m \u001b[49m\u001b[43mcreate_graph\u001b[49m\u001b[43m,\u001b[49m\u001b[43m \u001b[49m\u001b[43minputs\u001b[49m\u001b[38;5;241;43m=\u001b[39;49m\u001b[43minputs\u001b[49m\n\u001b[0;32m    628\u001b[0m \u001b[43m\u001b[49m\u001b[43m)\u001b[49m\n",
      "File \u001b[1;32m~\\AppData\\Local\\Packages\\PythonSoftwareFoundation.Python.3.11_qbz5n2kfra8p0\\LocalCache\\local-packages\\Python311\\site-packages\\torch\\autograd\\__init__.py:347\u001b[0m, in \u001b[0;36mbackward\u001b[1;34m(tensors, grad_tensors, retain_graph, create_graph, grad_variables, inputs)\u001b[0m\n\u001b[0;32m    342\u001b[0m     retain_graph \u001b[38;5;241m=\u001b[39m create_graph\n\u001b[0;32m    344\u001b[0m \u001b[38;5;66;03m# The reason we repeat the same comment below is that\u001b[39;00m\n\u001b[0;32m    345\u001b[0m \u001b[38;5;66;03m# some Python versions print out the first line of a multi-line function\u001b[39;00m\n\u001b[0;32m    346\u001b[0m \u001b[38;5;66;03m# calls in the traceback and some print out the last line\u001b[39;00m\n\u001b[1;32m--> 347\u001b[0m \u001b[43m_engine_run_backward\u001b[49m\u001b[43m(\u001b[49m\n\u001b[0;32m    348\u001b[0m \u001b[43m    \u001b[49m\u001b[43mtensors\u001b[49m\u001b[43m,\u001b[49m\n\u001b[0;32m    349\u001b[0m \u001b[43m    \u001b[49m\u001b[43mgrad_tensors_\u001b[49m\u001b[43m,\u001b[49m\n\u001b[0;32m    350\u001b[0m \u001b[43m    \u001b[49m\u001b[43mretain_graph\u001b[49m\u001b[43m,\u001b[49m\n\u001b[0;32m    351\u001b[0m \u001b[43m    \u001b[49m\u001b[43mcreate_graph\u001b[49m\u001b[43m,\u001b[49m\n\u001b[0;32m    352\u001b[0m \u001b[43m    \u001b[49m\u001b[43minputs\u001b[49m\u001b[43m,\u001b[49m\n\u001b[0;32m    353\u001b[0m \u001b[43m    \u001b[49m\u001b[43mallow_unreachable\u001b[49m\u001b[38;5;241;43m=\u001b[39;49m\u001b[38;5;28;43;01mTrue\u001b[39;49;00m\u001b[43m,\u001b[49m\n\u001b[0;32m    354\u001b[0m \u001b[43m    \u001b[49m\u001b[43maccumulate_grad\u001b[49m\u001b[38;5;241;43m=\u001b[39;49m\u001b[38;5;28;43;01mTrue\u001b[39;49;00m\u001b[43m,\u001b[49m\n\u001b[0;32m    355\u001b[0m \u001b[43m\u001b[49m\u001b[43m)\u001b[49m\n",
      "File \u001b[1;32m~\\AppData\\Local\\Packages\\PythonSoftwareFoundation.Python.3.11_qbz5n2kfra8p0\\LocalCache\\local-packages\\Python311\\site-packages\\torch\\autograd\\graph.py:823\u001b[0m, in \u001b[0;36m_engine_run_backward\u001b[1;34m(t_outputs, *args, **kwargs)\u001b[0m\n\u001b[0;32m    821\u001b[0m     unregister_hooks \u001b[38;5;241m=\u001b[39m _register_logging_hooks_on_whole_graph(t_outputs)\n\u001b[0;32m    822\u001b[0m \u001b[38;5;28;01mtry\u001b[39;00m:\n\u001b[1;32m--> 823\u001b[0m     \u001b[38;5;28;01mreturn\u001b[39;00m \u001b[43mVariable\u001b[49m\u001b[38;5;241;43m.\u001b[39;49m\u001b[43m_execution_engine\u001b[49m\u001b[38;5;241;43m.\u001b[39;49m\u001b[43mrun_backward\u001b[49m\u001b[43m(\u001b[49m\u001b[43m  \u001b[49m\u001b[38;5;66;43;03m# Calls into the C++ engine to run the backward pass\u001b[39;49;00m\n\u001b[0;32m    824\u001b[0m \u001b[43m        \u001b[49m\u001b[43mt_outputs\u001b[49m\u001b[43m,\u001b[49m\u001b[43m \u001b[49m\u001b[38;5;241;43m*\u001b[39;49m\u001b[43margs\u001b[49m\u001b[43m,\u001b[49m\u001b[43m \u001b[49m\u001b[38;5;241;43m*\u001b[39;49m\u001b[38;5;241;43m*\u001b[39;49m\u001b[43mkwargs\u001b[49m\n\u001b[0;32m    825\u001b[0m \u001b[43m    \u001b[49m\u001b[43m)\u001b[49m  \u001b[38;5;66;03m# Calls into the C++ engine to run the backward pass\u001b[39;00m\n\u001b[0;32m    826\u001b[0m \u001b[38;5;28;01mfinally\u001b[39;00m:\n\u001b[0;32m    827\u001b[0m     \u001b[38;5;28;01mif\u001b[39;00m attach_logging_hooks:\n",
      "\u001b[1;31mKeyboardInterrupt\u001b[0m: "
     ]
    }
   ],
   "source": [
    "import os\n",
    "import torch\n",
    "import torch.nn as nn\n",
    "from torchvision import datasets, models, transforms\n",
    "from torch.utils.data import DataLoader\n",
    "import matplotlib.pyplot as plt\n",
    "from datetime import datetime\n",
    "\n",
    "# ==== 路径设置 ====\n",
    "data_dir = \"\"\n",
    "log_path = \"log34.txt\"\n",
    "model_dir = \"./checkpoints34\"\n",
    "os.makedirs(model_dir, exist_ok=True)\n",
    "\n",
    "# ==== 日志函数 ====\n",
    "def write_log(msg):\n",
    "    with open(log_path, \"a\") as f:\n",
    "        f.write(f\"[{datetime.now()}] {msg}\\n\")\n",
    "    print(msg)\n",
    "\n",
    "# ==== 数据预处理 ====\n",
    "transform = transforms.Compose([\n",
    "    transforms.Resize((224, 224)),\n",
    "    transforms.ToTensor(),\n",
    "])\n",
    "\n",
    "train_loader = DataLoader(datasets.ImageFolder(os.path.join(data_dir, 'train'), transform), batch_size=32, shuffle=True)\n",
    "val_loader = DataLoader(datasets.ImageFolder(os.path.join(data_dir, 'val'), transform), batch_size=32, shuffle=False)\n",
    "test_loader = DataLoader(datasets.ImageFolder(os.path.join(data_dir, 'test'), transform), batch_size=32, shuffle=False)\n",
    "class_names = train_loader.dataset.classes\n",
    "device = torch.device(\"cuda\" if torch.cuda.is_available() else \"cpu\")\n",
    "\n",
    "# ==== 初始化模型 ====\n",
    "model = models.resnet34(pretrained=True)\n",
    "model.fc = nn.Linear(model.fc.in_features, len(class_names))\n",
    "model = model.to(device)\n",
    "criterion = nn.CrossEntropyLoss()\n",
    "optimizer = torch.optim.Adam(model.parameters(), lr=1e-4)\n",
    "\n",
    "# ==== 训练模型 ====\n",
    "num_epochs = 30\n",
    "for epoch in range(num_epochs):\n",
    "    model.train()\n",
    "    running_loss, correct, total = 0.0, 0, 0\n",
    "    for inputs, labels in train_loader:\n",
    "        inputs, labels = inputs.to(device), labels.to(device)\n",
    "        optimizer.zero_grad()\n",
    "        outputs = model(inputs)\n",
    "        loss = criterion(outputs, labels)\n",
    "        loss.backward()\n",
    "        optimizer.step()\n",
    "        \n",
    "        running_loss += loss.item()\n",
    "        _, preds = torch.max(outputs, 1)\n",
    "        correct += (preds == labels).sum().item()\n",
    "        total += labels.size(0)\n",
    "\n",
    "    acc = correct / total\n",
    "    log = f\"Epoch [{epoch+1}/{num_epochs}], Loss: {running_loss:.4f}, Acc: {acc:.4f}\"\n",
    "    write_log(log)\n",
    "\n",
    "    if (epoch + 1) % 5 == 0:\n",
    "        save_path = os.path.join(model_dir, f\"resnet34_epoch{epoch+1}.pth\")\n",
    "        torch.save(model.state_dict(), save_path)\n",
    "        write_log(f\"Saved model at {save_path}\")\n",
    "\n",
    "# ==== 测试所有模型并记录准确率 ====\n",
    "import glob\n",
    "\n",
    "def evaluate_model(model, loader):\n",
    "    model.eval()\n",
    "    correct, total = 0, 0\n",
    "    with torch.no_grad():\n",
    "        for inputs, labels in loader:\n",
    "            inputs, labels = inputs.to(device), labels.to(device)\n",
    "            outputs = model(inputs)\n",
    "            _, preds = torch.max(outputs, 1)\n",
    "            correct += (preds == labels).sum().item()\n",
    "            total += labels.size(0)\n",
    "    return correct / total\n",
    "\n",
    "# 可视化进度用\n",
    "accuracies = []\n",
    "\n",
    "write_log(\"=== Evaluating Saved Models ===\")\n",
    "pth_files = sorted(glob.glob(os.path.join(model_dir, \"*.pth\")))\n",
    "for path in pth_files:\n",
    "    model.load_state_dict(torch.load(path))\n",
    "    acc = evaluate_model(model, test_loader)\n",
    "    accuracies.append(acc)\n",
    "    write_log(f\"{os.path.basename(path)} - Test Accuracy: {acc:.4f}\")\n",
    "\n",
    "# ==== 绘制准确率曲线 ====\n",
    "plt.plot(range(5, 5 * len(accuracies) + 1, 5), accuracies, marker='o')\n",
    "plt.title(\"Test Accuracy per Saved Model\")\n",
    "plt.xlabel(\"Epoch\")\n",
    "plt.ylabel(\"Accuracy\")\n",
    "plt.grid(True)\n",
    "plt.savefig(\"accuracy_curve.png\")\n",
    "plt.show()\n"
   ]
  },
  {
   "cell_type": "code",
   "execution_count": 1,
   "metadata": {},
   "outputs": [
    {
     "name": "stderr",
     "output_type": "stream",
     "text": [
      "C:\\Users\\30419\\AppData\\Local\\Packages\\PythonSoftwareFoundation.Python.3.11_qbz5n2kfra8p0\\LocalCache\\local-packages\\Python311\\site-packages\\torchvision\\models\\_utils.py:208: UserWarning: The parameter 'pretrained' is deprecated since 0.13 and may be removed in the future, please use 'weights' instead.\n",
      "  warnings.warn(\n",
      "C:\\Users\\30419\\AppData\\Local\\Packages\\PythonSoftwareFoundation.Python.3.11_qbz5n2kfra8p0\\LocalCache\\local-packages\\Python311\\site-packages\\torchvision\\models\\_utils.py:223: UserWarning: Arguments other than a weight enum or `None` for 'weights' are deprecated since 0.13 and may be removed in the future. The current behavior is equivalent to passing `weights=ResNet34_Weights.IMAGENET1K_V1`. You can also use `weights=ResNet34_Weights.DEFAULT` to get the most up-to-date weights.\n",
      "  warnings.warn(msg)\n"
     ]
    },
    {
     "name": "stdout",
     "output_type": "stream",
     "text": [
      "[2025-04-20 21:39:16] --- Epoch [1/30] ---\n"
     ]
    },
    {
     "name": "stderr",
     "output_type": "stream",
     "text": [
      "Training Epoch 1: 100%|████████████████████| 275/275 [01:39<00:00,  2.77it/s, acc=0.794, loss=0.379]\n"
     ]
    },
    {
     "name": "stdout",
     "output_type": "stream",
     "text": [
      "[2025-04-20 21:40:55] Epoch [1/30] Complete - Loss: 229.8384, Accuracy: 0.7943\n",
      "[2025-04-20 21:40:55] --- Epoch [2/30] ---\n"
     ]
    },
    {
     "name": "stderr",
     "output_type": "stream",
     "text": [
      "Training Epoch 2: 100%|████████████████████| 275/275 [01:36<00:00,  2.86it/s, acc=0.965, loss=0.247]\n"
     ]
    },
    {
     "name": "stdout",
     "output_type": "stream",
     "text": [
      "[2025-04-20 21:42:32] Epoch [2/30] Complete - Loss: 40.6831, Accuracy: 0.9647\n",
      "[2025-04-20 21:42:32] --- Epoch [3/30] ---\n"
     ]
    },
    {
     "name": "stderr",
     "output_type": "stream",
     "text": [
      "Training Epoch 3: 100%|████████████████████| 275/275 [01:27<00:00,  3.13it/s, acc=0.988, loss=0.209]\n"
     ]
    },
    {
     "name": "stdout",
     "output_type": "stream",
     "text": [
      "[2025-04-20 21:43:59] Epoch [3/30] Complete - Loss: 15.5733, Accuracy: 0.9878\n",
      "[2025-04-20 21:43:59] --- Epoch [4/30] ---\n"
     ]
    },
    {
     "name": "stderr",
     "output_type": "stream",
     "text": [
      "Training Epoch 4: 100%|███████████████████| 275/275 [01:23<00:00,  3.28it/s, acc=0.985, loss=0.0866]\n"
     ]
    },
    {
     "name": "stdout",
     "output_type": "stream",
     "text": [
      "[2025-04-20 21:45:23] Epoch [4/30] Complete - Loss: 15.9715, Accuracy: 0.9846\n",
      "[2025-04-20 21:45:23] --- Epoch [5/30] ---\n"
     ]
    },
    {
     "name": "stderr",
     "output_type": "stream",
     "text": [
      "Training Epoch 5: 100%|███████████████████| 275/275 [01:24<00:00,  3.26it/s, acc=0.987, loss=0.0369]\n"
     ]
    },
    {
     "name": "stdout",
     "output_type": "stream",
     "text": [
      "[2025-04-20 21:46:48] Epoch [5/30] Complete - Loss: 15.7150, Accuracy: 0.9868\n",
      "[2025-04-20 21:46:48] Saved model at ./checkpoints34\\resnet34_epoch5.pth\n",
      "[2025-04-20 21:46:48] --- Epoch [6/30] ---\n"
     ]
    },
    {
     "name": "stderr",
     "output_type": "stream",
     "text": [
      "Training Epoch 6: 100%|████████████████████| 275/275 [01:23<00:00,  3.28it/s, acc=0.988, loss=0.175]\n"
     ]
    },
    {
     "name": "stdout",
     "output_type": "stream",
     "text": [
      "[2025-04-20 21:48:12] Epoch [6/30] Complete - Loss: 12.6410, Accuracy: 0.9878\n",
      "[2025-04-20 21:48:12] --- Epoch [7/30] ---\n"
     ]
    },
    {
     "name": "stderr",
     "output_type": "stream",
     "text": [
      "Training Epoch 7: 100%|████████████████████| 275/275 [01:23<00:00,  3.28it/s, acc=0.99, loss=0.0704]\n"
     ]
    },
    {
     "name": "stdout",
     "output_type": "stream",
     "text": [
      "[2025-04-20 21:49:35] Epoch [7/30] Complete - Loss: 11.3212, Accuracy: 0.9895\n",
      "[2025-04-20 21:49:35] --- Epoch [8/30] ---\n"
     ]
    },
    {
     "name": "stderr",
     "output_type": "stream",
     "text": [
      "Training Epoch 8: 100%|████████████████████| 275/275 [01:24<00:00,  3.27it/s, acc=0.991, loss=0.019]\n"
     ]
    },
    {
     "name": "stdout",
     "output_type": "stream",
     "text": [
      "[2025-04-20 21:51:00] Epoch [8/30] Complete - Loss: 8.9672, Accuracy: 0.9914\n",
      "[2025-04-20 21:51:00] --- Epoch [9/30] ---\n"
     ]
    },
    {
     "name": "stderr",
     "output_type": "stream",
     "text": [
      "Training Epoch 9: 100%|███████████████████| 275/275 [01:23<00:00,  3.29it/s, acc=0.989, loss=0.0301]\n"
     ]
    },
    {
     "name": "stdout",
     "output_type": "stream",
     "text": [
      "[2025-04-20 21:52:23] Epoch [9/30] Complete - Loss: 11.2880, Accuracy: 0.9885\n",
      "[2025-04-20 21:52:23] --- Epoch [10/30] ---\n"
     ]
    },
    {
     "name": "stderr",
     "output_type": "stream",
     "text": [
      "Training Epoch 10: 100%|███████████████████| 275/275 [01:25<00:00,  3.22it/s, acc=0.99, loss=0.0137]\n"
     ]
    },
    {
     "name": "stdout",
     "output_type": "stream",
     "text": [
      "[2025-04-20 21:53:49] Epoch [10/30] Complete - Loss: 9.2363, Accuracy: 0.9901\n",
      "[2025-04-20 21:53:49] Saved model at ./checkpoints34\\resnet34_epoch10.pth\n",
      "[2025-04-20 21:53:49] --- Epoch [11/30] ---\n"
     ]
    },
    {
     "name": "stderr",
     "output_type": "stream",
     "text": [
      "Training Epoch 11: 100%|██████████████████| 275/275 [01:33<00:00,  2.94it/s, acc=0.989, loss=0.0078]\n"
     ]
    },
    {
     "name": "stdout",
     "output_type": "stream",
     "text": [
      "[2025-04-20 21:55:22] Epoch [11/30] Complete - Loss: 10.0978, Accuracy: 0.9889\n",
      "[2025-04-20 21:55:22] --- Epoch [12/30] ---\n"
     ]
    },
    {
     "name": "stderr",
     "output_type": "stream",
     "text": [
      "Training Epoch 12: 100%|██████████████████| 275/275 [01:31<00:00,  3.01it/s, acc=0.985, loss=0.0531]\n"
     ]
    },
    {
     "name": "stdout",
     "output_type": "stream",
     "text": [
      "[2025-04-20 21:56:54] Epoch [12/30] Complete - Loss: 15.0661, Accuracy: 0.9851\n",
      "[2025-04-20 21:56:54] --- Epoch [13/30] ---\n"
     ]
    },
    {
     "name": "stderr",
     "output_type": "stream",
     "text": [
      "Training Epoch 13: 100%|██████████████████| 275/275 [01:33<00:00,  2.93it/s, acc=0.989, loss=0.0196]\n"
     ]
    },
    {
     "name": "stdout",
     "output_type": "stream",
     "text": [
      "[2025-04-20 21:58:28] Epoch [13/30] Complete - Loss: 9.2353, Accuracy: 0.9890\n",
      "[2025-04-20 21:58:28] --- Epoch [14/30] ---\n"
     ]
    },
    {
     "name": "stderr",
     "output_type": "stream",
     "text": [
      "Training Epoch 14: 100%|██████████████████| 275/275 [01:37<00:00,  2.82it/s, acc=0.989, loss=0.0232]\n"
     ]
    },
    {
     "name": "stdout",
     "output_type": "stream",
     "text": [
      "[2025-04-20 22:00:05] Epoch [14/30] Complete - Loss: 10.3084, Accuracy: 0.9891\n",
      "[2025-04-20 22:00:05] --- Epoch [15/30] ---\n"
     ]
    },
    {
     "name": "stderr",
     "output_type": "stream",
     "text": [
      "Training Epoch 15: 100%|█████████████████| 275/275 [01:35<00:00,  2.88it/s, acc=0.992, loss=0.00168]\n"
     ]
    },
    {
     "name": "stdout",
     "output_type": "stream",
     "text": [
      "[2025-04-20 22:01:41] Epoch [15/30] Complete - Loss: 6.7742, Accuracy: 0.9925\n",
      "[2025-04-20 22:01:41] Saved model at ./checkpoints34\\resnet34_epoch15.pth\n",
      "[2025-04-20 22:01:41] --- Epoch [16/30] ---\n"
     ]
    },
    {
     "name": "stderr",
     "output_type": "stream",
     "text": [
      "Training Epoch 16: 100%|██████████████████| 275/275 [01:24<00:00,  3.25it/s, acc=0.997, loss=0.0091]\n"
     ]
    },
    {
     "name": "stdout",
     "output_type": "stream",
     "text": [
      "[2025-04-20 22:03:06] Epoch [16/30] Complete - Loss: 2.8630, Accuracy: 0.9974\n",
      "[2025-04-20 22:03:06] --- Epoch [17/30] ---\n"
     ]
    },
    {
     "name": "stderr",
     "output_type": "stream",
     "text": [
      "Training Epoch 17: 100%|███████████████████| 275/275 [01:24<00:00,  3.27it/s, acc=0.992, loss=0.232]\n"
     ]
    },
    {
     "name": "stdout",
     "output_type": "stream",
     "text": [
      "[2025-04-20 22:04:30] Epoch [17/30] Complete - Loss: 7.9089, Accuracy: 0.9923\n",
      "[2025-04-20 22:04:30] --- Epoch [18/30] ---\n"
     ]
    },
    {
     "name": "stderr",
     "output_type": "stream",
     "text": [
      "Training Epoch 18: 100%|████████████████| 275/275 [01:23<00:00,  3.30it/s, acc=0.996, loss=0.000854]\n"
     ]
    },
    {
     "name": "stdout",
     "output_type": "stream",
     "text": [
      "[2025-04-20 22:05:53] Epoch [18/30] Complete - Loss: 5.0083, Accuracy: 0.9956\n",
      "[2025-04-20 22:05:53] --- Epoch [19/30] ---\n"
     ]
    },
    {
     "name": "stderr",
     "output_type": "stream",
     "text": [
      "Training Epoch 19: 100%|██████████████████| 275/275 [01:23<00:00,  3.28it/s, acc=0.991, loss=0.0144]\n"
     ]
    },
    {
     "name": "stdout",
     "output_type": "stream",
     "text": [
      "[2025-04-20 22:07:17] Epoch [19/30] Complete - Loss: 8.4834, Accuracy: 0.9907\n",
      "[2025-04-20 22:07:17] --- Epoch [20/30] ---\n"
     ]
    },
    {
     "name": "stderr",
     "output_type": "stream",
     "text": [
      "Training Epoch 20: 100%|██████████████████| 275/275 [01:24<00:00,  3.26it/s, acc=0.99, loss=0.00331]\n"
     ]
    },
    {
     "name": "stdout",
     "output_type": "stream",
     "text": [
      "[2025-04-20 22:08:42] Epoch [20/30] Complete - Loss: 9.1608, Accuracy: 0.9898\n",
      "[2025-04-20 22:08:42] Saved model at ./checkpoints34\\resnet34_epoch20.pth\n",
      "[2025-04-20 22:08:42] --- Epoch [21/30] ---\n"
     ]
    },
    {
     "name": "stderr",
     "output_type": "stream",
     "text": [
      "Training Epoch 21: 100%|█████████████████| 275/275 [01:24<00:00,  3.25it/s, acc=0.993, loss=0.00122]\n"
     ]
    },
    {
     "name": "stdout",
     "output_type": "stream",
     "text": [
      "[2025-04-20 22:10:06] Epoch [21/30] Complete - Loss: 6.4002, Accuracy: 0.9928\n",
      "[2025-04-20 22:10:06] --- Epoch [22/30] ---\n"
     ]
    },
    {
     "name": "stderr",
     "output_type": "stream",
     "text": [
      "Training Epoch 22: 100%|███████████████████| 275/275 [01:24<00:00,  3.27it/s, acc=0.994, loss=0.162]\n"
     ]
    },
    {
     "name": "stdout",
     "output_type": "stream",
     "text": [
      "[2025-04-20 22:11:30] Epoch [22/30] Complete - Loss: 6.5344, Accuracy: 0.9939\n",
      "[2025-04-20 22:11:30] --- Epoch [23/30] ---\n"
     ]
    },
    {
     "name": "stderr",
     "output_type": "stream",
     "text": [
      "Training Epoch 23: 100%|██████████████████| 275/275 [01:22<00:00,  3.34it/s, acc=0.996, loss=0.0119]\n"
     ]
    },
    {
     "name": "stdout",
     "output_type": "stream",
     "text": [
      "[2025-04-20 22:12:53] Epoch [23/30] Complete - Loss: 5.1097, Accuracy: 0.9956\n",
      "[2025-04-20 22:12:53] --- Epoch [24/30] ---\n"
     ]
    },
    {
     "name": "stderr",
     "output_type": "stream",
     "text": [
      "Training Epoch 24: 100%|██████████████████| 275/275 [01:23<00:00,  3.31it/s, acc=0.995, loss=0.0782]\n"
     ]
    },
    {
     "name": "stdout",
     "output_type": "stream",
     "text": [
      "[2025-04-20 22:14:16] Epoch [24/30] Complete - Loss: 5.3350, Accuracy: 0.9945\n",
      "[2025-04-20 22:14:16] --- Epoch [25/30] ---\n"
     ]
    },
    {
     "name": "stderr",
     "output_type": "stream",
     "text": [
      "Training Epoch 25: 100%|█████████████████| 275/275 [01:36<00:00,  2.86it/s, acc=0.996, loss=0.00223]\n"
     ]
    },
    {
     "name": "stdout",
     "output_type": "stream",
     "text": [
      "[2025-04-20 22:15:52] Epoch [25/30] Complete - Loss: 3.7732, Accuracy: 0.9961\n",
      "[2025-04-20 22:15:52] Saved model at ./checkpoints34\\resnet34_epoch25.pth\n",
      "[2025-04-20 22:15:52] --- Epoch [26/30] ---\n"
     ]
    },
    {
     "name": "stderr",
     "output_type": "stream",
     "text": [
      "Training Epoch 26: 100%|█████████████████| 275/275 [01:42<00:00,  2.70it/s, acc=0.993, loss=0.00314]\n"
     ]
    },
    {
     "name": "stdout",
     "output_type": "stream",
     "text": [
      "[2025-04-20 22:17:34] Epoch [26/30] Complete - Loss: 6.2114, Accuracy: 0.9928\n",
      "[2025-04-20 22:17:34] --- Epoch [27/30] ---\n"
     ]
    },
    {
     "name": "stderr",
     "output_type": "stream",
     "text": [
      "Training Epoch 27: 100%|█████████████████| 275/275 [01:37<00:00,  2.81it/s, acc=0.995, loss=0.00109]\n"
     ]
    },
    {
     "name": "stdout",
     "output_type": "stream",
     "text": [
      "[2025-04-20 22:19:12] Epoch [27/30] Complete - Loss: 5.4000, Accuracy: 0.9948\n",
      "[2025-04-20 22:19:12] --- Epoch [28/30] ---\n"
     ]
    },
    {
     "name": "stderr",
     "output_type": "stream",
     "text": [
      "Training Epoch 28: 100%|██████████████████| 275/275 [01:22<00:00,  3.33it/s, acc=0.99, loss=0.00521]\n"
     ]
    },
    {
     "name": "stdout",
     "output_type": "stream",
     "text": [
      "[2025-04-20 22:20:34] Epoch [28/30] Complete - Loss: 8.2092, Accuracy: 0.9899\n",
      "[2025-04-20 22:20:34] --- Epoch [29/30] ---\n"
     ]
    },
    {
     "name": "stderr",
     "output_type": "stream",
     "text": [
      "Training Epoch 29: 100%|█████████████████| 275/275 [01:23<00:00,  3.30it/s, acc=0.995, loss=0.00202]\n"
     ]
    },
    {
     "name": "stdout",
     "output_type": "stream",
     "text": [
      "[2025-04-20 22:21:58] Epoch [29/30] Complete - Loss: 4.9796, Accuracy: 0.9949\n",
      "[2025-04-20 22:21:58] --- Epoch [30/30] ---\n"
     ]
    },
    {
     "name": "stderr",
     "output_type": "stream",
     "text": [
      "Training Epoch 30: 100%|███████████████████| 275/275 [01:33<00:00,  2.94it/s, acc=0.995, loss=0.002]\n"
     ]
    },
    {
     "name": "stdout",
     "output_type": "stream",
     "text": [
      "[2025-04-20 22:23:32] Epoch [30/30] Complete - Loss: 5.6484, Accuracy: 0.9947\n",
      "[2025-04-20 22:23:32] Saved model at ./checkpoints34\\resnet34_epoch30.pth\n",
      "[2025-04-20 22:23:32] === Evaluating Saved Models ===\n",
      "[2025-04-20 22:23:51] resnet34_epoch10.pth - Test Accuracy: 0.9812\n",
      "[2025-04-20 22:24:07] resnet34_epoch15.pth - Test Accuracy: 0.9812\n",
      "[2025-04-20 22:24:25] resnet34_epoch20.pth - Test Accuracy: 0.9790\n",
      "[2025-04-20 22:24:41] resnet34_epoch25.pth - Test Accuracy: 0.9812\n",
      "[2025-04-20 22:24:54] resnet34_epoch30.pth - Test Accuracy: 0.9750\n",
      "[2025-04-20 22:25:10] resnet34_epoch5.pth - Test Accuracy: 0.9801\n"
     ]
    },
    {
     "data": {
      "image/png": "[encoded data removed]",
      "text/plain": [
       "<Figure size 640x480 with 1 Axes>"
      ]
     },
     "metadata": {},
     "output_type": "display_data"
    }
   ],
   "source": [
    "import os\n",
    "import torch\n",
    "import torch.nn as nn\n",
    "from torchvision import datasets, models, transforms\n",
    "from torch.utils.data import DataLoader\n",
    "import matplotlib.pyplot as plt\n",
    "from datetime import datetime\n",
    "import glob\n",
    "from tqdm import tqdm  # 导入进度条\n",
    "\n",
    "# ==== 路径设置 ====\n",
    "data_dir = \"\"  # 请填入你的数据路径（包含train/val/test）\n",
    "log_path = \"log34.txt\"\n",
    "model_dir = \"./checkpoints34\"\n",
    "os.makedirs(model_dir, exist_ok=True)\n",
    "\n",
    "# ==== 清空旧日志 ====\n",
    "open(log_path, \"w\").close()\n",
    "\n",
    "# ==== 日志函数 ====\n",
    "def write_log(msg):\n",
    "    timestamp = f\"[{datetime.now().strftime('%Y-%m-%d %H:%M:%S')}]\"\n",
    "    full_msg = f\"{timestamp} {msg}\"\n",
    "    with open(log_path, \"a\") as f:\n",
    "        f.write(full_msg + \"\\n\")\n",
    "    print(full_msg)\n",
    "\n",
    "# ==== 数据预处理 ====\n",
    "transform = transforms.Compose([\n",
    "    transforms.Resize((224, 224)),\n",
    "    transforms.ToTensor(),\n",
    "])\n",
    "\n",
    "train_loader = DataLoader(datasets.ImageFolder(os.path.join(data_dir, 'train'), transform), batch_size=32, shuffle=True)\n",
    "val_loader = DataLoader(datasets.ImageFolder(os.path.join(data_dir, 'val'), transform), batch_size=32, shuffle=False)\n",
    "test_loader = DataLoader(datasets.ImageFolder(os.path.join(data_dir, 'test'), transform), batch_size=32, shuffle=False)\n",
    "class_names = train_loader.dataset.classes\n",
    "device = torch.device(\"cuda\" if torch.cuda.is_available() else \"cpu\")\n",
    "\n",
    "# ==== 初始化模型 ====\n",
    "model = models.resnet34(pretrained=True)\n",
    "model.fc = nn.Linear(model.fc.in_features, len(class_names))\n",
    "model = model.to(device)\n",
    "criterion = nn.CrossEntropyLoss()\n",
    "optimizer = torch.optim.Adam(model.parameters(), lr=1e-4)\n",
    "\n",
    "# ==== 训练模型 ====\n",
    "num_epochs = 30\n",
    "for epoch in range(num_epochs):\n",
    "    model.train()\n",
    "    running_loss, correct, total = 0.0, 0, 0\n",
    "\n",
    "    write_log(f\"--- Epoch [{epoch+1}/{num_epochs}] ---\")\n",
    "    progress_bar = tqdm(train_loader, desc=f\"Training Epoch {epoch+1}\", ncols=100)\n",
    "\n",
    "    for inputs, labels in progress_bar:\n",
    "        inputs, labels = inputs.to(device), labels.to(device)\n",
    "        optimizer.zero_grad()\n",
    "        outputs = model(inputs)\n",
    "        loss = criterion(outputs, labels)\n",
    "        loss.backward()\n",
    "        optimizer.step()\n",
    "\n",
    "        running_loss += loss.item()\n",
    "        _, preds = torch.max(outputs, 1)\n",
    "        correct += (preds == labels).sum().item()\n",
    "        total += labels.size(0)\n",
    "\n",
    "        # 更新进度条显示信息\n",
    "        progress_bar.set_postfix(loss=loss.item(), acc=correct / total)\n",
    "\n",
    "    acc = correct / total\n",
    "    write_log(f\"Epoch [{epoch+1}/{num_epochs}] Complete - Loss: {running_loss:.4f}, Accuracy: {acc:.4f}\")\n",
    "\n",
    "    # 每5个epoch保存一次模型\n",
    "    if (epoch + 1) % 5 == 0:\n",
    "        save_path = os.path.join(model_dir, f\"resnet34_epoch{epoch+1}.pth\")\n",
    "        torch.save(model.state_dict(), save_path)\n",
    "        write_log(f\"Saved model at {save_path}\")\n",
    "\n",
    "# ==== 测试所有模型并记录准确率 ====\n",
    "def evaluate_model(model, loader):\n",
    "    model.eval()\n",
    "    correct, total = 0, 0\n",
    "    with torch.no_grad():\n",
    "        for inputs, labels in loader:\n",
    "            inputs, labels = inputs.to(device), labels.to(device)\n",
    "            outputs = model(inputs)\n",
    "            _, preds = torch.max(outputs, 1)\n",
    "            correct += (preds == labels).sum().item()\n",
    "            total += labels.size(0)\n",
    "    return correct / total\n",
    "\n",
    "# ==== 测试模型 ====\n",
    "accuracies = []\n",
    "write_log(\"=== Evaluating Saved Models ===\")\n",
    "pth_files = sorted(glob.glob(os.path.join(model_dir, \"*.pth\")))\n",
    "for path in pth_files:\n",
    "    model.load_state_dict(torch.load(path))\n",
    "    acc = evaluate_model(model, test_loader)\n",
    "    accuracies.append(acc)\n",
    "    write_log(f\"{os.path.basename(path)} - Test Accuracy: {acc:.4f}\")\n",
    "\n",
    "# ==== 绘制准确率曲线 ====\n",
    "plt.plot(range(5, 5 * len(accuracies) + 1, 5), accuracies, marker='o')\n",
    "plt.title(\"Test Accuracy per Saved Model\")\n",
    "plt.xlabel(\"Epoch\")\n",
    "plt.ylabel(\"Accuracy\")\n",
    "plt.grid(True)\n",
    "plt.savefig(\"accuracy_curve.png\")\n",
    "plt.show()\n"
   ]
  },
  {
   "cell_type": "code",
   "execution_count": 3,
   "metadata": {},
   "outputs": [
    {
     "name": "stdout",
     "output_type": "stream",
     "text": [
      "Parsed 30 epochs of training data\n",
      "Parsed 6 test accuracy points\n"
     ]
    },
    {
     "data": {
      "image/png": "[encoded data removed]",
      "text/plain": [
       "<Figure size 1500x500 with 3 Axes>"
      ]
     },
     "metadata": {},
     "output_type": "display_data"
    }
   ],
   "source": [
    "import re\n",
    "import matplotlib.pyplot as plt\n",
    "\n",
    "def parse_log_file(log_file):\n",
    "    train_losses = []\n",
    "    train_accuracies = []\n",
    "    test_accuracies = []\n",
    "    test_epochs = []  # 记录测试准确率对应的epoch\n",
    "    \n",
    "    # 正则表达式模式\n",
    "    train_pattern = re.compile(r\"Epoch \\[(\\d+)/\\d+\\] Complete - Loss: (\\d+\\.\\d+), Accuracy: (\\d+\\.\\d+)\")\n",
    "    test_pattern = re.compile(r\"resnet34_epoch(\\d+)\\.pth - Test Accuracy: (\\d+\\.\\d+)\")\n",
    "    \n",
    "    with open(log_file, 'r') as f:\n",
    "        for line in f:\n",
    "            # 匹配训练数据\n",
    "            train_match = train_pattern.search(line)\n",
    "            if train_match:\n",
    "                epoch = int(train_match.group(1))\n",
    "                loss = float(train_match.group(2))\n",
    "                acc = float(train_match.group(3))\n",
    "                \n",
    "                # 确保按顺序添加\n",
    "                if epoch == len(train_losses) + 1:\n",
    "                    train_losses.append(loss)\n",
    "                    train_accuracies.append(acc)\n",
    "                else:\n",
    "                    print(f\"Warning: Epoch {epoch} out of sequence\")\n",
    "            \n",
    "            # 匹配测试数据\n",
    "            test_match = test_pattern.search(line)\n",
    "            if test_match:\n",
    "                epoch = int(test_match.group(1))\n",
    "                test_acc = float(test_match.group(2))\n",
    "                test_epochs.append(epoch)\n",
    "                test_accuracies.append(test_acc)\n",
    "    \n",
    "    # 对测试准确率进行排序，确保与epoch顺序一致\n",
    "    test_data = sorted(zip(test_epochs, test_accuracies))\n",
    "    sorted_test_epochs, sorted_test_accuracies = zip(*test_data)\n",
    "    \n",
    "    return train_losses, train_accuracies, sorted_test_epochs, sorted_test_accuracies\n",
    "\n",
    "# 解析日志文件\n",
    "log_file = \"resnet34-all-data.txt\"  # 请确保文件名正确\n",
    "train_losses, train_accuracies, test_epochs, test_accuracies = parse_log_file(log_file)\n",
    "\n",
    "# 确保我们有足够的数据点\n",
    "num_epochs = len(train_losses)\n",
    "print(f\"Parsed {num_epochs} epochs of training data\")\n",
    "print(f\"Parsed {len(test_accuracies)} test accuracy points\")\n",
    "\n",
    "# ==== 绘图 ====\n",
    "plt.figure(figsize=(15, 5))\n",
    "\n",
    "# Loss 曲线\n",
    "plt.subplot(1, 3, 1)\n",
    "plt.plot(range(1, num_epochs + 1), train_losses, marker='o')\n",
    "plt.title(\"Training Loss\")\n",
    "plt.xlabel(\"Epoch\")\n",
    "plt.ylabel(\"Loss\")\n",
    "plt.grid(True)\n",
    "\n",
    "# Train Accuracy 曲线\n",
    "plt.subplot(1, 3, 2)\n",
    "plt.plot(range(1, num_epochs + 1), train_accuracies, marker='o', color='green')\n",
    "plt.title(\"Training Accuracy\")\n",
    "plt.xlabel(\"Epoch\")\n",
    "plt.ylabel(\"Accuracy\")\n",
    "plt.grid(True)\n",
    "\n",
    "# Test Accuracy 曲线\n",
    "plt.subplot(1, 3, 3)\n",
    "plt.plot(test_epochs, test_accuracies, marker='o', color='red')\n",
    "plt.title(\"Test Accuracy\")\n",
    "plt.xlabel(\"Epoch\")\n",
    "plt.ylabel(\"Accuracy\")\n",
    "plt.grid(True)\n",
    "\n",
    "plt.tight_layout()\n",
    "plt.savefig(\"training_test_curves.png\")\n",
    "plt.show()"
   ]
  },
  {
   "cell_type": "markdown",
   "metadata": {},
   "source": [
    "增强之前，十分之一训练"
   ]
  },
  {
   "cell_type": "code",
   "execution_count": 1,
   "metadata": {},
   "outputs": [
    {
     "name": "stderr",
     "output_type": "stream",
     "text": [
      "C:\\Users\\30419\\AppData\\Local\\Packages\\PythonSoftwareFoundation.Python.3.11_qbz5n2kfra8p0\\LocalCache\\local-packages\\Python311\\site-packages\\torchvision\\models\\_utils.py:208: UserWarning: The parameter 'pretrained' is deprecated since 0.13 and may be removed in the future, please use 'weights' instead.\n",
      "  warnings.warn(\n",
      "C:\\Users\\30419\\AppData\\Local\\Packages\\PythonSoftwareFoundation.Python.3.11_qbz5n2kfra8p0\\LocalCache\\local-packages\\Python311\\site-packages\\torchvision\\models\\_utils.py:223: UserWarning: Arguments other than a weight enum or `None` for 'weights' are deprecated since 0.13 and may be removed in the future. The current behavior is equivalent to passing `weights=ResNet34_Weights.IMAGENET1K_V1`. You can also use `weights=ResNet34_Weights.DEFAULT` to get the most up-to-date weights.\n",
      "  warnings.warn(msg)\n"
     ]
    },
    {
     "name": "stdout",
     "output_type": "stream",
     "text": [
      "[2025-04-29 14:57:23] --- Epoch [1/30] ---\n"
     ]
    },
    {
     "name": "stderr",
     "output_type": "stream",
     "text": [
      "Training Epoch 1: 100%|███████████████████████| 28/28 [00:49<00:00,  1.78s/it, acc=0.362, loss=1.77]\n"
     ]
    },
    {
     "name": "stdout",
     "output_type": "stream",
     "text": [
      "[2025-04-29 14:58:13] Epoch [1/30] Complete - Loss: 2.5605, Accuracy: 0.3618\n",
      "[2025-04-29 14:58:13] --- Epoch [2/30] ---\n"
     ]
    },
    {
     "name": "stderr",
     "output_type": "stream",
     "text": [
      "Training Epoch 2: 100%|██████████████████████| 28/28 [00:49<00:00,  1.77s/it, acc=0.891, loss=0.684]\n"
     ]
    },
    {
     "name": "stdout",
     "output_type": "stream",
     "text": [
      "[2025-04-29 14:59:03] Epoch [2/30] Complete - Loss: 0.7646, Accuracy: 0.8908\n",
      "[2025-04-29 14:59:03] --- Epoch [3/30] ---\n"
     ]
    },
    {
     "name": "stderr",
     "output_type": "stream",
     "text": [
      "Training Epoch 3: 100%|██████████████████████| 28/28 [00:53<00:00,  1.91s/it, acc=0.994, loss=0.389]\n"
     ]
    },
    {
     "name": "stdout",
     "output_type": "stream",
     "text": [
      "[2025-04-29 14:59:56] Epoch [3/30] Complete - Loss: 0.2406, Accuracy: 0.9943\n",
      "[2025-04-29 14:59:56] --- Epoch [4/30] ---\n"
     ]
    },
    {
     "name": "stderr",
     "output_type": "stream",
     "text": [
      "Training Epoch 4: 100%|█████████████████████████| 28/28 [00:55<00:00,  1.97s/it, acc=1, loss=0.0615]\n"
     ]
    },
    {
     "name": "stdout",
     "output_type": "stream",
     "text": [
      "[2025-04-29 15:00:51] Epoch [4/30] Complete - Loss: 0.0875, Accuracy: 1.0000\n",
      "[2025-04-29 15:00:51] --- Epoch [5/30] ---\n"
     ]
    },
    {
     "name": "stderr",
     "output_type": "stream",
     "text": [
      "Training Epoch 5: 100%|█████████████████████████| 28/28 [00:50<00:00,  1.80s/it, acc=1, loss=0.0477]\n"
     ]
    },
    {
     "name": "stdout",
     "output_type": "stream",
     "text": [
      "[2025-04-29 15:01:42] Epoch [5/30] Complete - Loss: 0.0450, Accuracy: 1.0000\n",
      "[2025-04-29 15:01:42] Saved model at checkpoint_resnet34-2\\resnet34_epoch5.pth\n",
      "[2025-04-29 15:01:42] --- Epoch [6/30] ---\n"
     ]
    },
    {
     "name": "stderr",
     "output_type": "stream",
     "text": [
      "Training Epoch 6: 100%|█████████████████████████| 28/28 [00:51<00:00,  1.86s/it, acc=1, loss=0.0378]\n"
     ]
    },
    {
     "name": "stdout",
     "output_type": "stream",
     "text": [
      "[2025-04-29 15:02:34] Epoch [6/30] Complete - Loss: 0.0281, Accuracy: 1.0000\n",
      "[2025-04-29 15:02:34] --- Epoch [7/30] ---\n"
     ]
    },
    {
     "name": "stderr",
     "output_type": "stream",
     "text": [
      "Training Epoch 7: 100%|█████████████████████████| 28/28 [00:54<00:00,  1.96s/it, acc=1, loss=0.0197]\n"
     ]
    },
    {
     "name": "stdout",
     "output_type": "stream",
     "text": [
      "[2025-04-29 15:03:28] Epoch [7/30] Complete - Loss: 0.0211, Accuracy: 1.0000\n",
      "[2025-04-29 15:03:28] --- Epoch [8/30] ---\n"
     ]
    },
    {
     "name": "stderr",
     "output_type": "stream",
     "text": [
      "Training Epoch 8: 100%|█████████████████████████| 28/28 [00:51<00:00,  1.84s/it, acc=1, loss=0.0286]\n"
     ]
    },
    {
     "name": "stdout",
     "output_type": "stream",
     "text": [
      "[2025-04-29 15:04:20] Epoch [8/30] Complete - Loss: 0.0168, Accuracy: 1.0000\n",
      "[2025-04-29 15:04:20] --- Epoch [9/30] ---\n"
     ]
    },
    {
     "name": "stderr",
     "output_type": "stream",
     "text": [
      "Training Epoch 9: 100%|█████████████████████████| 28/28 [00:55<00:00,  1.98s/it, acc=1, loss=0.0128]\n"
     ]
    },
    {
     "name": "stdout",
     "output_type": "stream",
     "text": [
      "[2025-04-29 15:05:15] Epoch [9/30] Complete - Loss: 0.0134, Accuracy: 1.0000\n",
      "[2025-04-29 15:05:15] --- Epoch [10/30] ---\n"
     ]
    },
    {
     "name": "stderr",
     "output_type": "stream",
     "text": [
      "Training Epoch 10: 100%|████████████████████████| 28/28 [00:56<00:00,  2.03s/it, acc=1, loss=0.0315]\n"
     ]
    },
    {
     "name": "stdout",
     "output_type": "stream",
     "text": [
      "[2025-04-29 15:06:12] Epoch [10/30] Complete - Loss: 0.0124, Accuracy: 1.0000\n",
      "[2025-04-29 15:06:12] Saved model at checkpoint_resnet34-2\\resnet34_epoch10.pth\n",
      "[2025-04-29 15:06:12] --- Epoch [11/30] ---\n"
     ]
    },
    {
     "name": "stderr",
     "output_type": "stream",
     "text": [
      "Training Epoch 11: 100%|████████████████████████| 28/28 [00:56<00:00,  2.02s/it, acc=1, loss=0.0124]\n"
     ]
    },
    {
     "name": "stdout",
     "output_type": "stream",
     "text": [
      "[2025-04-29 15:07:09] Epoch [11/30] Complete - Loss: 0.0106, Accuracy: 1.0000\n",
      "[2025-04-29 15:07:09] --- Epoch [12/30] ---\n"
     ]
    },
    {
     "name": "stderr",
     "output_type": "stream",
     "text": [
      "Training Epoch 12: 100%|████████████████████████| 28/28 [00:57<00:00,  2.07s/it, acc=1, loss=0.0262]\n"
     ]
    },
    {
     "name": "stdout",
     "output_type": "stream",
     "text": [
      "[2025-04-29 15:08:07] Epoch [12/30] Complete - Loss: 0.0092, Accuracy: 1.0000\n",
      "[2025-04-29 15:08:07] --- Epoch [13/30] ---\n"
     ]
    },
    {
     "name": "stderr",
     "output_type": "stream",
     "text": [
      "Training Epoch 13: 100%|███████████████████████| 28/28 [00:55<00:00,  1.97s/it, acc=1, loss=0.00939]\n"
     ]
    },
    {
     "name": "stdout",
     "output_type": "stream",
     "text": [
      "[2025-04-29 15:09:02] Epoch [13/30] Complete - Loss: 0.0091, Accuracy: 1.0000\n",
      "[2025-04-29 15:09:02] --- Epoch [14/30] ---\n"
     ]
    },
    {
     "name": "stderr",
     "output_type": "stream",
     "text": [
      "Training Epoch 14: 100%|███████████████████████| 28/28 [00:58<00:00,  2.07s/it, acc=1, loss=0.00582]\n"
     ]
    },
    {
     "name": "stdout",
     "output_type": "stream",
     "text": [
      "[2025-04-29 15:10:00] Epoch [14/30] Complete - Loss: 0.0067, Accuracy: 1.0000\n",
      "[2025-04-29 15:10:00] --- Epoch [15/30] ---\n"
     ]
    },
    {
     "name": "stderr",
     "output_type": "stream",
     "text": [
      "Training Epoch 15: 100%|███████████████████████| 28/28 [00:57<00:00,  2.06s/it, acc=1, loss=0.00485]\n"
     ]
    },
    {
     "name": "stdout",
     "output_type": "stream",
     "text": [
      "[2025-04-29 15:10:57] Epoch [15/30] Complete - Loss: 0.0060, Accuracy: 1.0000\n",
      "[2025-04-29 15:10:58] Saved model at checkpoint_resnet34-2\\resnet34_epoch15.pth\n",
      "[2025-04-29 15:10:58] --- Epoch [16/30] ---\n"
     ]
    },
    {
     "name": "stderr",
     "output_type": "stream",
     "text": [
      "Training Epoch 16: 100%|███████████████████████| 28/28 [00:57<00:00,  2.07s/it, acc=1, loss=0.00907]\n"
     ]
    },
    {
     "name": "stdout",
     "output_type": "stream",
     "text": [
      "[2025-04-29 15:11:56] Epoch [16/30] Complete - Loss: 0.0054, Accuracy: 1.0000\n",
      "[2025-04-29 15:11:56] --- Epoch [17/30] ---\n"
     ]
    },
    {
     "name": "stderr",
     "output_type": "stream",
     "text": [
      "Training Epoch 17: 100%|████████████████████████| 28/28 [00:57<00:00,  2.05s/it, acc=1, loss=0.0133]\n"
     ]
    },
    {
     "name": "stdout",
     "output_type": "stream",
     "text": [
      "[2025-04-29 15:12:53] Epoch [17/30] Complete - Loss: 0.0049, Accuracy: 1.0000\n",
      "[2025-04-29 15:12:53] --- Epoch [18/30] ---\n"
     ]
    },
    {
     "name": "stderr",
     "output_type": "stream",
     "text": [
      "Training Epoch 18: 100%|███████████████████████| 28/28 [00:56<00:00,  2.01s/it, acc=1, loss=0.00741]\n"
     ]
    },
    {
     "name": "stdout",
     "output_type": "stream",
     "text": [
      "[2025-04-29 15:13:49] Epoch [18/30] Complete - Loss: 0.0044, Accuracy: 1.0000\n",
      "[2025-04-29 15:13:49] --- Epoch [19/30] ---\n"
     ]
    },
    {
     "name": "stderr",
     "output_type": "stream",
     "text": [
      "Training Epoch 19: 100%|███████████████████████| 28/28 [00:51<00:00,  1.85s/it, acc=1, loss=0.00569]\n"
     ]
    },
    {
     "name": "stdout",
     "output_type": "stream",
     "text": [
      "[2025-04-29 15:14:41] Epoch [19/30] Complete - Loss: 0.0040, Accuracy: 1.0000\n",
      "[2025-04-29 15:14:41] --- Epoch [20/30] ---\n"
     ]
    },
    {
     "name": "stderr",
     "output_type": "stream",
     "text": [
      "Training Epoch 20: 100%|████████████████████████| 28/28 [00:59<00:00,  2.14s/it, acc=1, loss=0.0108]\n"
     ]
    },
    {
     "name": "stdout",
     "output_type": "stream",
     "text": [
      "[2025-04-29 15:15:41] Epoch [20/30] Complete - Loss: 0.0045, Accuracy: 1.0000\n",
      "[2025-04-29 15:15:41] Saved model at checkpoint_resnet34-2\\resnet34_epoch20.pth\n",
      "[2025-04-29 15:15:41] --- Epoch [21/30] ---\n"
     ]
    },
    {
     "name": "stderr",
     "output_type": "stream",
     "text": [
      "Training Epoch 21: 100%|███████████████████████| 28/28 [01:00<00:00,  2.16s/it, acc=1, loss=0.00832]\n"
     ]
    },
    {
     "name": "stdout",
     "output_type": "stream",
     "text": [
      "[2025-04-29 15:16:42] Epoch [21/30] Complete - Loss: 0.0040, Accuracy: 1.0000\n",
      "[2025-04-29 15:16:42] --- Epoch [22/30] ---\n"
     ]
    },
    {
     "name": "stderr",
     "output_type": "stream",
     "text": [
      "Training Epoch 22: 100%|███████████████████████| 28/28 [00:58<00:00,  2.09s/it, acc=1, loss=0.00795]\n"
     ]
    },
    {
     "name": "stdout",
     "output_type": "stream",
     "text": [
      "[2025-04-29 15:17:40] Epoch [22/30] Complete - Loss: 0.0038, Accuracy: 1.0000\n",
      "[2025-04-29 15:17:40] --- Epoch [23/30] ---\n"
     ]
    },
    {
     "name": "stderr",
     "output_type": "stream",
     "text": [
      "Training Epoch 23: 100%|███████████████████████| 28/28 [01:02<00:00,  2.22s/it, acc=1, loss=0.00823]\n"
     ]
    },
    {
     "name": "stdout",
     "output_type": "stream",
     "text": [
      "[2025-04-29 15:18:42] Epoch [23/30] Complete - Loss: 0.0033, Accuracy: 1.0000\n",
      "[2025-04-29 15:18:42] --- Epoch [24/30] ---\n"
     ]
    },
    {
     "name": "stderr",
     "output_type": "stream",
     "text": [
      "Training Epoch 24: 100%|███████████████████████| 28/28 [01:01<00:00,  2.21s/it, acc=1, loss=0.00397]\n"
     ]
    },
    {
     "name": "stdout",
     "output_type": "stream",
     "text": [
      "[2025-04-29 15:19:44] Epoch [24/30] Complete - Loss: 0.0029, Accuracy: 1.0000\n",
      "[2025-04-29 15:19:44] --- Epoch [25/30] ---\n"
     ]
    },
    {
     "name": "stderr",
     "output_type": "stream",
     "text": [
      "Training Epoch 25: 100%|████████████████████████| 28/28 [01:01<00:00,  2.20s/it, acc=1, loss=0.0197]\n"
     ]
    },
    {
     "name": "stdout",
     "output_type": "stream",
     "text": [
      "[2025-04-29 15:20:46] Epoch [25/30] Complete - Loss: 0.0031, Accuracy: 1.0000\n",
      "[2025-04-29 15:20:46] Saved model at checkpoint_resnet34-2\\resnet34_epoch25.pth\n",
      "[2025-04-29 15:20:46] --- Epoch [26/30] ---\n"
     ]
    },
    {
     "name": "stderr",
     "output_type": "stream",
     "text": [
      "Training Epoch 26: 100%|████████████████████████| 28/28 [01:02<00:00,  2.25s/it, acc=1, loss=0.0119]\n"
     ]
    },
    {
     "name": "stdout",
     "output_type": "stream",
     "text": [
      "[2025-04-29 15:21:49] Epoch [26/30] Complete - Loss: 0.0028, Accuracy: 1.0000\n",
      "[2025-04-29 15:21:49] --- Epoch [27/30] ---\n"
     ]
    },
    {
     "name": "stderr",
     "output_type": "stream",
     "text": [
      "Training Epoch 27: 100%|███████████████████████| 28/28 [00:58<00:00,  2.07s/it, acc=1, loss=0.00359]\n"
     ]
    },
    {
     "name": "stdout",
     "output_type": "stream",
     "text": [
      "[2025-04-29 15:22:47] Epoch [27/30] Complete - Loss: 0.0026, Accuracy: 1.0000\n",
      "[2025-04-29 15:22:47] --- Epoch [28/30] ---\n"
     ]
    },
    {
     "name": "stderr",
     "output_type": "stream",
     "text": [
      "Training Epoch 28: 100%|████████████████████████| 28/28 [00:59<00:00,  2.11s/it, acc=1, loss=0.0126]\n"
     ]
    },
    {
     "name": "stdout",
     "output_type": "stream",
     "text": [
      "[2025-04-29 15:23:46] Epoch [28/30] Complete - Loss: 0.0027, Accuracy: 1.0000\n",
      "[2025-04-29 15:23:46] --- Epoch [29/30] ---\n"
     ]
    },
    {
     "name": "stderr",
     "output_type": "stream",
     "text": [
      "Training Epoch 29: 100%|███████████████████████| 28/28 [00:55<00:00,  1.97s/it, acc=1, loss=0.00561]\n"
     ]
    },
    {
     "name": "stdout",
     "output_type": "stream",
     "text": [
      "[2025-04-29 15:24:41] Epoch [29/30] Complete - Loss: 0.0024, Accuracy: 1.0000\n",
      "[2025-04-29 15:24:41] --- Epoch [30/30] ---\n"
     ]
    },
    {
     "name": "stderr",
     "output_type": "stream",
     "text": [
      "Training Epoch 30: 100%|███████████████████████| 28/28 [00:50<00:00,  1.80s/it, acc=1, loss=0.00387]\n"
     ]
    },
    {
     "name": "stdout",
     "output_type": "stream",
     "text": [
      "[2025-04-29 15:25:31] Epoch [30/30] Complete - Loss: 0.0022, Accuracy: 1.0000\n",
      "[2025-04-29 15:25:31] Saved model at checkpoint_resnet34-2\\resnet34_epoch30.pth\n",
      "[2025-04-29 15:25:31] === Evaluating Saved Models ===\n",
      "[2025-04-29 15:26:14] resnet34_epoch10.pth - Test Accuracy: 0.8205\n",
      "[2025-04-29 15:26:56] resnet34_epoch15.pth - Test Accuracy: 0.8278\n",
      "[2025-04-29 15:27:38] resnet34_epoch20.pth - Test Accuracy: 0.8284\n",
      "[2025-04-29 15:28:19] resnet34_epoch25.pth - Test Accuracy: 0.8227\n",
      "[2025-04-29 15:29:01] resnet34_epoch30.pth - Test Accuracy: 0.8261\n",
      "[2025-04-29 15:29:44] resnet34_epoch5.pth - Test Accuracy: 0.8244\n"
     ]
    },
    {
     "data": {
      "image/png": "[encoded data removed]",
      "text/plain": [
       "<Figure size 640x480 with 1 Axes>"
      ]
     },
     "metadata": {},
     "output_type": "display_data"
    },
    {
     "data": {
      "image/png": "[encoded data removed]",
      "text/plain": [
       "<Figure size 1200x500 with 2 Axes>"
      ]
     },
     "metadata": {},
     "output_type": "display_data"
    }
   ],
   "source": [
    "import os\n",
    "import torch\n",
    "import torch.nn as nn\n",
    "from torchvision import datasets, models, transforms\n",
    "from torch.utils.data import DataLoader, Subset\n",
    "from sklearn.model_selection import StratifiedShuffleSplit\n",
    "import matplotlib.pyplot as plt\n",
    "from datetime import datetime\n",
    "import glob\n",
    "from tqdm import tqdm\n",
    "\n",
    "# ==== 路径设置 ====\n",
    "data_dir = \"\"  # 请填入你的数据路径（包含train/val/test）\n",
    "model_dir = \"checkpoint_resnet34-2\"\n",
    "os.makedirs(model_dir, exist_ok=True)\n",
    "\n",
    "# ==== 清空旧日志 ====\n",
    "open(log_path, \"w\").close()\n",
    "\n",
    "# ==== 日志函数 ====\n",
    "def write_log(msg):\n",
    "    timestamp = f\"[{datetime.now().strftime('%Y-%m-%d %H:%M:%S')}]\"\n",
    "    full_msg = f\"{timestamp} {msg}\"\n",
    "    with open(log_path, \"a\") as f:\n",
    "        f.write(full_msg + \"\\n\")\n",
    "    print(full_msg)\n",
    "\n",
    "# ==== 数据预处理 ====\n",
    "transform = transforms.Compose([\n",
    "    transforms.Resize((224, 224)),\n",
    "    transforms.ToTensor(),\n",
    "])\n",
    "\n",
    "# ==== 加载并划分训练数据（使用四分之一） ====\n",
    "full_train_dataset = datasets.ImageFolder(os.path.join(data_dir, 'train'), transform)\n",
    "targets = full_train_dataset.targets  # 所有图像的标签列表\n",
    "\n",
    "# Stratified 方式选择四分之一数据\n",
    "sss = StratifiedShuffleSplit(n_splits=1, test_size=0.9, random_state=42)\n",
    "for train_idx, _ in sss.split(torch.zeros(len(targets)), targets):\n",
    "    reduced_train_dataset = Subset(full_train_dataset, train_idx)\n",
    "\n",
    "train_loader = DataLoader(reduced_train_dataset, batch_size=32, shuffle=True)\n",
    "\n",
    "# ==== 加载验证集和测试集（完整） ====\n",
    "val_loader = DataLoader(datasets.ImageFolder(os.path.join(data_dir, 'val'), transform), batch_size=32, shuffle=False)\n",
    "test_loader = DataLoader(datasets.ImageFolder(os.path.join(data_dir, 'test'), transform), batch_size=32, shuffle=False)\n",
    "\n",
    "class_names = full_train_dataset.classes\n",
    "device = torch.device(\"cuda\" if torch.cuda.is_available() else \"cpu\")\n",
    "\n",
    "# ==== 初始化模型 ====\n",
    "model = models.resnet34(pretrained=True)\n",
    "model.fc = nn.Linear(model.fc.in_features, len(class_names))\n",
    "model = model.to(device)\n",
    "criterion = nn.CrossEntropyLoss()\n",
    "optimizer = torch.optim.Adam(model.parameters(), lr=1e-4)\n",
    "\n",
    "# ==== 训练模型 ====\n",
    "num_epochs = 30\n",
    "\n",
    "# 记录每个epoch的训练loss和准确率\n",
    "train_losses = []\n",
    "train_accuracies = []\n",
    "\n",
    "for epoch in range(num_epochs):\n",
    "    model.train()\n",
    "    running_loss, correct, total = 0.0, 0, 0\n",
    "\n",
    "    write_log(f\"--- Epoch [{epoch+1}/{num_epochs}] ---\")\n",
    "    progress_bar = tqdm(train_loader, desc=f\"Training Epoch {epoch+1}\", ncols=100)\n",
    "\n",
    "    for inputs, labels in progress_bar:\n",
    "        inputs, labels = inputs.to(device), labels.to(device)\n",
    "        optimizer.zero_grad()\n",
    "        outputs = model(inputs)\n",
    "        loss = criterion(outputs, labels)\n",
    "        loss.backward()\n",
    "        optimizer.step()\n",
    "\n",
    "        running_loss += loss.item()\n",
    "        _, preds = torch.max(outputs, 1)\n",
    "        correct += (preds == labels).sum().item()\n",
    "        total += labels.size(0)\n",
    "\n",
    "        progress_bar.set_postfix(loss=loss.item(), acc=correct / total)\n",
    "\n",
    "    epoch_loss = running_loss / len(train_loader)\n",
    "    epoch_acc = correct / total\n",
    "\n",
    "    train_losses.append(epoch_loss)\n",
    "    train_accuracies.append(epoch_acc)\n",
    "\n",
    "    write_log(f\"Epoch [{epoch+1}/{num_epochs}] Complete - Loss: {epoch_loss:.4f}, Accuracy: {epoch_acc:.4f}\")\n",
    "\n",
    "    if (epoch + 1) % 5 == 0:\n",
    "        save_path = os.path.join(model_dir, f\"resnet34_epoch{epoch+1}.pth\")\n",
    "        torch.save(model.state_dict(), save_path)\n",
    "        write_log(f\"Saved model at {save_path}\")\n",
    "\n",
    "# ==== 测试函数 ====\n",
    "def evaluate_model(model, loader):\n",
    "    model.eval()\n",
    "    correct, total = 0, 0\n",
    "    with torch.no_grad():\n",
    "        for inputs, labels in loader:\n",
    "            inputs, labels = inputs.to(device), labels.to(device)\n",
    "            outputs = model(inputs)\n",
    "            _, preds = torch.max(outputs, 1)\n",
    "            correct += (preds == labels).sum().item()\n",
    "            total += labels.size(0)\n",
    "    return correct / total\n",
    "\n",
    "# ==== 测试模型 ====\n",
    "accuracies = []\n",
    "write_log(\"=== Evaluating Saved Models ===\")\n",
    "pth_files = sorted(glob.glob(os.path.join(model_dir, \"*.pth\")))\n",
    "for path in pth_files:\n",
    "    model.load_state_dict(torch.load(path))\n",
    "    acc = evaluate_model(model, test_loader)\n",
    "    accuracies.append(acc)\n",
    "    write_log(f\"{os.path.basename(path)} - Test Accuracy: {acc:.4f}\")\n",
    "\n",
    "# ==== 绘制测试集准确率变化 ====\n",
    "plt.figure()\n",
    "plt.plot(range(5, 5 * len(accuracies) + 1, 5), accuracies, marker='o')\n",
    "plt.title(\"Test Accuracy per Saved Model\")\n",
    "plt.xlabel(\"Epoch\")\n",
    "plt.ylabel(\"Accuracy\")\n",
    "plt.grid(True)\n",
    "plt.savefig(\"accuracy_curve.png\")\n",
    "plt.show()\n",
    "\n",
    "# ==== 绘制训练loss和准确率曲线 ====\n",
    "plt.figure(figsize=(12,5))\n",
    "\n",
    "# Loss曲线\n",
    "plt.subplot(1,2,1)\n",
    "plt.plot(range(1, num_epochs + 1), train_losses, marker='o', color='red')\n",
    "plt.title(\"Training Loss\")\n",
    "plt.xlabel(\"Epoch\")\n",
    "plt.ylabel(\"Loss\")\n",
    "plt.grid(True)\n",
    "\n",
    "# Accuracy曲线\n",
    "plt.subplot(1,2,2)\n",
    "plt.plot(range(1, num_epochs + 1), train_accuracies, marker='o', color='blue')\n",
    "plt.title(\"Training Accuracy\")\n",
    "plt.xlabel(\"Epoch\")\n",
    "plt.ylabel(\"Accuracy\")\n",
    "plt.grid(True)\n",
    "\n",
    "plt.tight_layout()\n",
    "plt.savefig(\"training_curves.png\")\n",
    "plt.show()\n"
   ]
  },
  {
   "cell_type": "markdown",
   "metadata": {},
   "source": [
    "增强之后训练模型"
   ]
  },
  {
   "cell_type": "code",
   "execution_count": 1,
   "metadata": {},
   "outputs": [
    {
     "name": "stderr",
     "output_type": "stream",
     "text": [
      "C:\\Users\\30419\\AppData\\Local\\Packages\\PythonSoftwareFoundation.Python.3.11_qbz5n2kfra8p0\\LocalCache\\local-packages\\Python311\\site-packages\\torchvision\\models\\_utils.py:208: UserWarning: The parameter 'pretrained' is deprecated since 0.13 and may be removed in the future, please use 'weights' instead.\n",
      "  warnings.warn(\n",
      "C:\\Users\\30419\\AppData\\Local\\Packages\\PythonSoftwareFoundation.Python.3.11_qbz5n2kfra8p0\\LocalCache\\local-packages\\Python311\\site-packages\\torchvision\\models\\_utils.py:223: UserWarning: Arguments other than a weight enum or `None` for 'weights' are deprecated since 0.13 and may be removed in the future. The current behavior is equivalent to passing `weights=ResNet34_Weights.IMAGENET1K_V1`. You can also use `weights=ResNet34_Weights.DEFAULT` to get the most up-to-date weights.\n",
      "  warnings.warn(msg)\n"
     ]
    },
    {
     "name": "stdout",
     "output_type": "stream",
     "text": [
      "[2025-04-30 10:59:32] --- Epoch [1/30] ---\n"
     ]
    },
    {
     "name": "stderr",
     "output_type": "stream",
     "text": [
      "Training Epoch 1: 100%|████████████████████| 138/138 [00:38<00:00,  3.56it/s, acc=0.727, loss=0.461]\n"
     ]
    },
    {
     "name": "stdout",
     "output_type": "stream",
     "text": [
      "[2025-04-30 11:00:11] Epoch [1/30] Complete - Loss: 1.1802, Accuracy: 0.7265\n",
      "[2025-04-30 11:00:11] --- Epoch [2/30] ---\n"
     ]
    },
    {
     "name": "stderr",
     "output_type": "stream",
     "text": [
      "Training Epoch 2: 100%|████████████████████| 138/138 [00:40<00:00,  3.42it/s, acc=0.989, loss=0.332]\n"
     ]
    },
    {
     "name": "stdout",
     "output_type": "stream",
     "text": [
      "[2025-04-30 11:00:51] Epoch [2/30] Complete - Loss: 0.1051, Accuracy: 0.9886\n",
      "[2025-04-30 11:00:51] --- Epoch [3/30] ---\n"
     ]
    },
    {
     "name": "stderr",
     "output_type": "stream",
     "text": [
      "Training Epoch 3: 100%|███████████████████| 138/138 [00:54<00:00,  2.53it/s, acc=0.997, loss=0.0836]\n"
     ]
    },
    {
     "name": "stdout",
     "output_type": "stream",
     "text": [
      "[2025-04-30 11:01:46] Epoch [3/30] Complete - Loss: 0.0370, Accuracy: 0.9973\n",
      "[2025-04-30 11:01:46] --- Epoch [4/30] ---\n"
     ]
    },
    {
     "name": "stderr",
     "output_type": "stream",
     "text": [
      "Training Epoch 4: 100%|███████████████████| 138/138 [00:58<00:00,  2.36it/s, acc=0.999, loss=0.0266]\n"
     ]
    },
    {
     "name": "stdout",
     "output_type": "stream",
     "text": [
      "[2025-04-30 11:02:44] Epoch [4/30] Complete - Loss: 0.0159, Accuracy: 0.9993\n",
      "[2025-04-30 11:02:44] --- Epoch [5/30] ---\n"
     ]
    },
    {
     "name": "stderr",
     "output_type": "stream",
     "text": [
      "Training Epoch 5: 100%|████████████████████| 138/138 [00:59<00:00,  2.31it/s, acc=0.998, loss=0.012]\n"
     ]
    },
    {
     "name": "stdout",
     "output_type": "stream",
     "text": [
      "[2025-04-30 11:03:44] Epoch [5/30] Complete - Loss: 0.0149, Accuracy: 0.9984\n",
      "[2025-04-30 11:03:44] Saved model at ./check_improve_34\\resnet34_epoch5.pth\n",
      "[2025-04-30 11:03:44] --- Epoch [6/30] ---\n"
     ]
    },
    {
     "name": "stderr",
     "output_type": "stream",
     "text": [
      "Training Epoch 6: 100%|███████████████████| 138/138 [01:01<00:00,  2.24it/s, acc=0.999, loss=0.0489]\n"
     ]
    },
    {
     "name": "stdout",
     "output_type": "stream",
     "text": [
      "[2025-04-30 11:04:46] Epoch [6/30] Complete - Loss: 0.0109, Accuracy: 0.9991\n",
      "[2025-04-30 11:04:46] --- Epoch [7/30] ---\n"
     ]
    },
    {
     "name": "stderr",
     "output_type": "stream",
     "text": [
      "Training Epoch 7: 100%|████████████████████| 138/138 [00:57<00:00,  2.40it/s, acc=0.997, loss=0.118]\n"
     ]
    },
    {
     "name": "stdout",
     "output_type": "stream",
     "text": [
      "[2025-04-30 11:05:43] Epoch [7/30] Complete - Loss: 0.0169, Accuracy: 0.9968\n",
      "[2025-04-30 11:05:43] --- Epoch [8/30] ---\n"
     ]
    },
    {
     "name": "stderr",
     "output_type": "stream",
     "text": [
      "Training Epoch 8: 100%|█████████████████████| 138/138 [00:48<00:00,  2.83it/s, acc=0.967, loss=0.13]\n"
     ]
    },
    {
     "name": "stdout",
     "output_type": "stream",
     "text": [
      "[2025-04-30 11:06:32] Epoch [8/30] Complete - Loss: 0.1244, Accuracy: 0.9670\n",
      "[2025-04-30 11:06:32] --- Epoch [9/30] ---\n"
     ]
    },
    {
     "name": "stderr",
     "output_type": "stream",
     "text": [
      "Training Epoch 9: 100%|████████████████████| 138/138 [00:50<00:00,  2.75it/s, acc=0.975, loss=0.336]\n"
     ]
    },
    {
     "name": "stdout",
     "output_type": "stream",
     "text": [
      "[2025-04-30 11:07:22] Epoch [9/30] Complete - Loss: 0.0938, Accuracy: 0.9747\n",
      "[2025-04-30 11:07:22] --- Epoch [10/30] ---\n"
     ]
    },
    {
     "name": "stderr",
     "output_type": "stream",
     "text": [
      "Training Epoch 10: 100%|███████████████████| 138/138 [00:45<00:00,  3.04it/s, acc=0.996, loss=0.012]\n"
     ]
    },
    {
     "name": "stdout",
     "output_type": "stream",
     "text": [
      "[2025-04-30 11:08:08] Epoch [10/30] Complete - Loss: 0.0284, Accuracy: 0.9961\n",
      "[2025-04-30 11:08:08] Saved model at ./check_improve_34\\resnet34_epoch10.pth\n",
      "[2025-04-30 11:08:08] --- Epoch [11/30] ---\n"
     ]
    },
    {
     "name": "stderr",
     "output_type": "stream",
     "text": [
      "Training Epoch 11: 100%|██████████████████| 138/138 [00:49<00:00,  2.77it/s, acc=0.995, loss=0.0152]\n"
     ]
    },
    {
     "name": "stdout",
     "output_type": "stream",
     "text": [
      "[2025-04-30 11:08:58] Epoch [11/30] Complete - Loss: 0.0216, Accuracy: 0.9948\n",
      "[2025-04-30 11:08:58] --- Epoch [12/30] ---\n"
     ]
    },
    {
     "name": "stderr",
     "output_type": "stream",
     "text": [
      "Training Epoch 12: 100%|██████████████████| 138/138 [00:56<00:00,  2.46it/s, acc=0.998, loss=0.0678]\n"
     ]
    },
    {
     "name": "stdout",
     "output_type": "stream",
     "text": [
      "[2025-04-30 11:09:54] Epoch [12/30] Complete - Loss: 0.0152, Accuracy: 0.9977\n",
      "[2025-04-30 11:09:54] --- Epoch [13/30] ---\n"
     ]
    },
    {
     "name": "stderr",
     "output_type": "stream",
     "text": [
      "Training Epoch 13: 100%|██████████████████| 138/138 [00:50<00:00,  2.75it/s, acc=0.999, loss=0.0117]\n"
     ]
    },
    {
     "name": "stdout",
     "output_type": "stream",
     "text": [
      "[2025-04-30 11:10:44] Epoch [13/30] Complete - Loss: 0.0069, Accuracy: 0.9993\n",
      "[2025-04-30 11:10:44] --- Epoch [14/30] ---\n"
     ]
    },
    {
     "name": "stderr",
     "output_type": "stream",
     "text": [
      "Training Epoch 14: 100%|██████████████████████| 138/138 [00:48<00:00,  2.84it/s, acc=1, loss=0.0109]\n"
     ]
    },
    {
     "name": "stdout",
     "output_type": "stream",
     "text": [
      "[2025-04-30 11:11:33] Epoch [14/30] Complete - Loss: 0.0039, Accuracy: 0.9995\n",
      "[2025-04-30 11:11:33] --- Epoch [15/30] ---\n"
     ]
    },
    {
     "name": "stderr",
     "output_type": "stream",
     "text": [
      "Training Epoch 15: 100%|█████████████████| 138/138 [00:47<00:00,  2.90it/s, acc=0.993, loss=0.00632]\n"
     ]
    },
    {
     "name": "stdout",
     "output_type": "stream",
     "text": [
      "[2025-04-30 11:12:20] Epoch [15/30] Complete - Loss: 0.0289, Accuracy: 0.9934\n",
      "[2025-04-30 11:12:20] Saved model at ./check_improve_34\\resnet34_epoch15.pth\n",
      "[2025-04-30 11:12:20] --- Epoch [16/30] ---\n"
     ]
    },
    {
     "name": "stderr",
     "output_type": "stream",
     "text": [
      "Training Epoch 16: 100%|██████████████████| 138/138 [00:49<00:00,  2.81it/s, acc=0.995, loss=0.0306]\n"
     ]
    },
    {
     "name": "stdout",
     "output_type": "stream",
     "text": [
      "[2025-04-30 11:13:09] Epoch [16/30] Complete - Loss: 0.0196, Accuracy: 0.9950\n",
      "[2025-04-30 11:13:09] --- Epoch [17/30] ---\n"
     ]
    },
    {
     "name": "stderr",
     "output_type": "stream",
     "text": [
      "Training Epoch 17: 100%|███████████████████| 138/138 [00:47<00:00,  2.90it/s, acc=0.997, loss=0.131]\n"
     ]
    },
    {
     "name": "stdout",
     "output_type": "stream",
     "text": [
      "[2025-04-30 11:13:57] Epoch [17/30] Complete - Loss: 0.0156, Accuracy: 0.9968\n",
      "[2025-04-30 11:13:57] --- Epoch [18/30] ---\n"
     ]
    },
    {
     "name": "stderr",
     "output_type": "stream",
     "text": [
      "Training Epoch 18: 100%|██████████████████| 138/138 [00:53<00:00,  2.60it/s, acc=0.991, loss=0.0205]\n"
     ]
    },
    {
     "name": "stdout",
     "output_type": "stream",
     "text": [
      "[2025-04-30 11:14:50] Epoch [18/30] Complete - Loss: 0.0393, Accuracy: 0.9907\n",
      "[2025-04-30 11:14:50] --- Epoch [19/30] ---\n"
     ]
    },
    {
     "name": "stderr",
     "output_type": "stream",
     "text": [
      "Training Epoch 19: 100%|██████████████████| 138/138 [00:49<00:00,  2.82it/s, acc=0.985, loss=0.0515]\n"
     ]
    },
    {
     "name": "stdout",
     "output_type": "stream",
     "text": [
      "[2025-04-30 11:15:39] Epoch [19/30] Complete - Loss: 0.0569, Accuracy: 0.9852\n",
      "[2025-04-30 11:15:39] --- Epoch [20/30] ---\n"
     ]
    },
    {
     "name": "stderr",
     "output_type": "stream",
     "text": [
      "Training Epoch 20: 100%|█████████████████| 138/138 [00:43<00:00,  3.16it/s, acc=0.991, loss=0.00385]\n"
     ]
    },
    {
     "name": "stdout",
     "output_type": "stream",
     "text": [
      "[2025-04-30 11:16:23] Epoch [20/30] Complete - Loss: 0.0376, Accuracy: 0.9907\n",
      "[2025-04-30 11:16:23] Saved model at ./check_improve_34\\resnet34_epoch20.pth\n",
      "[2025-04-30 11:16:23] --- Epoch [21/30] ---\n"
     ]
    },
    {
     "name": "stderr",
     "output_type": "stream",
     "text": [
      "Training Epoch 21: 100%|██████████████████| 138/138 [00:45<00:00,  3.06it/s, acc=0.996, loss=0.0651]\n"
     ]
    },
    {
     "name": "stdout",
     "output_type": "stream",
     "text": [
      "[2025-04-30 11:17:08] Epoch [21/30] Complete - Loss: 0.0166, Accuracy: 0.9964\n",
      "[2025-04-30 11:17:08] --- Epoch [22/30] ---\n"
     ]
    },
    {
     "name": "stderr",
     "output_type": "stream",
     "text": [
      "Training Epoch 22: 100%|███████████████████| 138/138 [00:49<00:00,  2.80it/s, acc=0.995, loss=0.218]\n"
     ]
    },
    {
     "name": "stdout",
     "output_type": "stream",
     "text": [
      "[2025-04-30 11:17:57] Epoch [22/30] Complete - Loss: 0.0202, Accuracy: 0.9945\n",
      "[2025-04-30 11:17:57] --- Epoch [23/30] ---\n"
     ]
    },
    {
     "name": "stderr",
     "output_type": "stream",
     "text": [
      "Training Epoch 23: 100%|███████████████████| 138/138 [00:48<00:00,  2.82it/s, acc=0.993, loss=0.064]\n"
     ]
    },
    {
     "name": "stdout",
     "output_type": "stream",
     "text": [
      "[2025-04-30 11:18:46] Epoch [23/30] Complete - Loss: 0.0236, Accuracy: 0.9932\n",
      "[2025-04-30 11:18:46] --- Epoch [24/30] ---\n"
     ]
    },
    {
     "name": "stderr",
     "output_type": "stream",
     "text": [
      "Training Epoch 24: 100%|██████████████████| 138/138 [00:51<00:00,  2.68it/s, acc=0.996, loss=0.0107]\n"
     ]
    },
    {
     "name": "stdout",
     "output_type": "stream",
     "text": [
      "[2025-04-30 11:19:38] Epoch [24/30] Complete - Loss: 0.0144, Accuracy: 0.9964\n",
      "[2025-04-30 11:19:38] --- Epoch [25/30] ---\n"
     ]
    },
    {
     "name": "stderr",
     "output_type": "stream",
     "text": [
      "Training Epoch 25: 100%|██████████████████| 138/138 [00:52<00:00,  2.62it/s, acc=0.999, loss=0.0105]\n"
     ]
    },
    {
     "name": "stdout",
     "output_type": "stream",
     "text": [
      "[2025-04-30 11:20:30] Epoch [25/30] Complete - Loss: 0.0055, Accuracy: 0.9993\n",
      "[2025-04-30 11:20:30] Saved model at ./check_improve_34\\resnet34_epoch25.pth\n",
      "[2025-04-30 11:20:30] --- Epoch [26/30] ---\n"
     ]
    },
    {
     "name": "stderr",
     "output_type": "stream",
     "text": [
      "Training Epoch 26: 100%|█████████████████████| 138/138 [00:48<00:00,  2.87it/s, acc=1, loss=0.00253]\n"
     ]
    },
    {
     "name": "stdout",
     "output_type": "stream",
     "text": [
      "[2025-04-30 11:21:19] Epoch [26/30] Complete - Loss: 0.0026, Accuracy: 0.9995\n",
      "[2025-04-30 11:21:19] --- Epoch [27/30] ---\n"
     ]
    },
    {
     "name": "stderr",
     "output_type": "stream",
     "text": [
      "Training Epoch 27: 100%|█████████████████████| 138/138 [00:35<00:00,  3.84it/s, acc=1, loss=0.00308]\n"
     ]
    },
    {
     "name": "stdout",
     "output_type": "stream",
     "text": [
      "[2025-04-30 11:21:54] Epoch [27/30] Complete - Loss: 0.0020, Accuracy: 1.0000\n",
      "[2025-04-30 11:21:54] --- Epoch [28/30] ---\n"
     ]
    },
    {
     "name": "stderr",
     "output_type": "stream",
     "text": [
      "Training Epoch 28: 100%|█████████████████| 138/138 [00:35<00:00,  3.85it/s, acc=0.999, loss=0.00635]\n"
     ]
    },
    {
     "name": "stdout",
     "output_type": "stream",
     "text": [
      "[2025-04-30 11:22:30] Epoch [28/30] Complete - Loss: 0.0030, Accuracy: 0.9991\n",
      "[2025-04-30 11:22:30] --- Epoch [29/30] ---\n"
     ]
    },
    {
     "name": "stderr",
     "output_type": "stream",
     "text": [
      "Training Epoch 29: 100%|█████████████████| 138/138 [00:35<00:00,  3.88it/s, acc=0.997, loss=0.00853]\n"
     ]
    },
    {
     "name": "stdout",
     "output_type": "stream",
     "text": [
      "[2025-04-30 11:23:06] Epoch [29/30] Complete - Loss: 0.0101, Accuracy: 0.9966\n",
      "[2025-04-30 11:23:06] --- Epoch [30/30] ---\n"
     ]
    },
    {
     "name": "stderr",
     "output_type": "stream",
     "text": [
      "Training Epoch 30: 100%|████████████████████| 138/138 [00:36<00:00,  3.80it/s, acc=0.985, loss=0.23]\n"
     ]
    },
    {
     "name": "stdout",
     "output_type": "stream",
     "text": [
      "[2025-04-30 11:23:42] Epoch [30/30] Complete - Loss: 0.0519, Accuracy: 0.9848\n",
      "[2025-04-30 11:23:42] Saved model at ./check_improve_34\\resnet34_epoch30.pth\n",
      "[2025-04-30 11:23:42] === Evaluating Saved Models ===\n",
      "[2025-04-30 11:23:57] resnet34_epoch10.pth - Test Accuracy: 0.8142\n",
      "[2025-04-30 11:24:11] resnet34_epoch15.pth - Test Accuracy: 0.8006\n",
      "[2025-04-30 11:24:24] resnet34_epoch20.pth - Test Accuracy: 0.7875\n",
      "[2025-04-30 11:24:37] resnet34_epoch25.pth - Test Accuracy: 0.8267\n",
      "[2025-04-30 11:24:50] resnet34_epoch30.pth - Test Accuracy: 0.7585\n",
      "[2025-04-30 11:25:03] resnet34_epoch5.pth - Test Accuracy: 0.8267\n"
     ]
    },
    {
     "data": {
      "image/png": "[encoded data removed]",
      "text/plain": [
       "<Figure size 1200x500 with 2 Axes>"
      ]
     },
     "metadata": {},
     "output_type": "display_data"
    },
    {
     "data": {
      "image/png": "[encoded data removed]",
      "text/plain": [
       "<Figure size 640x480 with 1 Axes>"
      ]
     },
     "metadata": {},
     "output_type": "display_data"
    }
   ],
   "source": [
    "import os\n",
    "import torch\n",
    "import torch.nn as nn\n",
    "from torchvision import datasets, models, transforms\n",
    "from torch.utils.data import DataLoader\n",
    "import matplotlib.pyplot as plt\n",
    "from datetime import datetime\n",
    "import glob\n",
    "from tqdm import tqdm  # 导入进度条\n",
    "\n",
    "# ==== 路径设置 ====\n",
    "data_dir = \"\"  # 请填入你的数据路径（包含train/val/test）\n",
    "model_dir = \"./check_improve_34\"\n",
    "log_path = \"log_improve34.txt\"  # 这里之前忘了定义log_path，顺便补上\n",
    "os.makedirs(model_dir, exist_ok=True)\n",
    "\n",
    "# ==== 清空旧日志 ====\n",
    "open(log_path, \"w\").close()\n",
    "\n",
    "# ==== 日志函数 ====\n",
    "def write_log(msg):\n",
    "    timestamp = f\"[{datetime.now().strftime('%Y-%m-%d %H:%M:%S')}]\"\n",
    "    full_msg = f\"{timestamp} {msg}\"\n",
    "    with open(log_path, \"a\") as f:\n",
    "        f.write(full_msg + \"\\n\")\n",
    "    print(full_msg)\n",
    "\n",
    "# ==== 数据预处理 ====\n",
    "transform = transforms.Compose([\n",
    "    transforms.Resize((224, 224)),\n",
    "    transforms.ToTensor(),\n",
    "])\n",
    "\n",
    "train_loader = DataLoader(datasets.ImageFolder(os.path.join(data_dir, 'train_improve-2'), transform), batch_size=32, shuffle=True)\n",
    "val_loader = DataLoader(datasets.ImageFolder(os.path.join(data_dir, 'val'), transform), batch_size=32, shuffle=False)\n",
    "test_loader = DataLoader(datasets.ImageFolder(os.path.join(data_dir, 'test'), transform), batch_size=32, shuffle=False)\n",
    "\n",
    "class_names = train_loader.dataset.classes\n",
    "device = torch.device(\"cuda\" if torch.cuda.is_available() else \"cpu\")\n",
    "\n",
    "# ==== 初始化模型 ====\n",
    "model = models.resnet34(pretrained=True)\n",
    "model.fc = nn.Linear(model.fc.in_features, len(class_names))\n",
    "model = model.to(device)\n",
    "criterion = nn.CrossEntropyLoss()\n",
    "optimizer = torch.optim.Adam(model.parameters(), lr=1e-4)\n",
    "\n",
    "# ==== 初始化记录曲线的数据 ====\n",
    "train_losses = []\n",
    "train_accuracies = []\n",
    "\n",
    "# ==== 训练模型 ====\n",
    "num_epochs = 30\n",
    "for epoch in range(num_epochs):\n",
    "    model.train()\n",
    "    running_loss, correct, total = 0.0, 0, 0\n",
    "\n",
    "    write_log(f\"--- Epoch [{epoch+1}/{num_epochs}] ---\")\n",
    "    progress_bar = tqdm(train_loader, desc=f\"Training Epoch {epoch+1}\", ncols=100)\n",
    "\n",
    "    for inputs, labels in progress_bar:\n",
    "        inputs, labels = inputs.to(device), labels.to(device)\n",
    "        optimizer.zero_grad()\n",
    "        outputs = model(inputs)\n",
    "        loss = criterion(outputs, labels)\n",
    "        loss.backward()\n",
    "        optimizer.step()\n",
    "\n",
    "        running_loss += loss.item()\n",
    "        _, preds = torch.max(outputs, 1)\n",
    "        correct += (preds == labels).sum().item()\n",
    "        total += labels.size(0)\n",
    "\n",
    "        # 更新进度条显示信息\n",
    "        progress_bar.set_postfix(loss=loss.item(), acc=correct / total)\n",
    "\n",
    "    epoch_loss = running_loss / len(train_loader)\n",
    "    epoch_acc = correct / total\n",
    "    train_losses.append(epoch_loss)\n",
    "    train_accuracies.append(epoch_acc)\n",
    "\n",
    "    write_log(f\"Epoch [{epoch+1}/{num_epochs}] Complete - Loss: {epoch_loss:.4f}, Accuracy: {epoch_acc:.4f}\")\n",
    "\n",
    "    # 每5个epoch保存一次模型\n",
    "    if (epoch + 1) % 5 == 0:\n",
    "        save_path = os.path.join(model_dir, f\"resnet34_epoch{epoch+1}.pth\")\n",
    "        torch.save(model.state_dict(), save_path)\n",
    "        write_log(f\"Saved model at {save_path}\")\n",
    "\n",
    "# ==== 测试所有模型并记录准确率 ====\n",
    "def evaluate_model(model, loader):\n",
    "    model.eval()\n",
    "    correct, total = 0, 0\n",
    "    with torch.no_grad():\n",
    "        for inputs, labels in loader:\n",
    "            inputs, labels = inputs.to(device), labels.to(device)\n",
    "            outputs = model(inputs)\n",
    "            _, preds = torch.max(outputs, 1)\n",
    "            correct += (preds == labels).sum().item()\n",
    "            total += labels.size(0)\n",
    "    return correct / total\n",
    "\n",
    "# ==== 测试模型 ====\n",
    "test_accuracies = []\n",
    "write_log(\"=== Evaluating Saved Models ===\")\n",
    "pth_files = sorted(glob.glob(os.path.join(model_dir, \"*.pth\")))\n",
    "for path in pth_files:\n",
    "    model.load_state_dict(torch.load(path))\n",
    "    acc = evaluate_model(model, test_loader)\n",
    "    test_accuracies.append(acc)\n",
    "    write_log(f\"{os.path.basename(path)} - Test Accuracy: {acc:.4f}\")\n",
    "\n",
    "# ==== 绘制训练曲线 ====\n",
    "plt.figure(figsize=(12, 5))\n",
    "\n",
    "# 绘制Loss曲线\n",
    "plt.subplot(1, 2, 1)\n",
    "plt.plot(range(1, num_epochs + 1), train_losses, marker='o')\n",
    "plt.title(\"Training Loss per Epoch\")\n",
    "plt.xlabel(\"Epoch\")\n",
    "plt.ylabel(\"Loss\")\n",
    "plt.grid(True)\n",
    "\n",
    "# 绘制Accuracy曲线\n",
    "plt.subplot(1, 2, 2)\n",
    "plt.plot(range(1, num_epochs + 1), train_accuracies, marker='o', color='green')\n",
    "plt.title(\"Training Accuracy per Epoch\")\n",
    "plt.xlabel(\"Epoch\")\n",
    "plt.ylabel(\"Accuracy\")\n",
    "plt.grid(True)\n",
    "\n",
    "plt.tight_layout()\n",
    "plt.savefig(\"train_loss_accuracy_curve.png\")\n",
    "plt.show()\n",
    "\n",
    "# ==== 绘制保存模型的测试集准确率曲线 ====\n",
    "plt.figure()\n",
    "plt.plot(range(5, 5 * len(test_accuracies) + 1, 5), test_accuracies, marker='o', color='red')\n",
    "plt.title(\"Test Accuracy per Saved Model\")\n",
    "plt.xlabel(\"Epoch\")\n",
    "plt.ylabel(\"Test Accuracy\")\n",
    "plt.grid(True)\n",
    "plt.savefig(\"test_accuracy_curve.png\")\n",
    "plt.show()\n"
   ]
  },
  {
   "cell_type": "code",
   "execution_count": 1,
   "metadata": {},
   "outputs": [
    {
     "ename": "NameError",
     "evalue": "name 'plt' is not defined",
     "output_type": "error",
     "traceback": [
      "\u001b[1;31m---------------------------------------------------------------------------\u001b[0m",
      "\u001b[1;31mNameError\u001b[0m                                 Traceback (most recent call last)",
      "Cell \u001b[1;32mIn[1], line 2\u001b[0m\n\u001b[0;32m      1\u001b[0m \u001b[38;5;66;03m# ==== 绘制训练曲线 ====\u001b[39;00m\n\u001b[1;32m----> 2\u001b[0m \u001b[43mplt\u001b[49m\u001b[38;5;241m.\u001b[39mfigure(figsize\u001b[38;5;241m=\u001b[39m(\u001b[38;5;241m15\u001b[39m, \u001b[38;5;241m5\u001b[39m))\n\u001b[0;32m      4\u001b[0m \u001b[38;5;66;03m# 训练损失曲线\u001b[39;00m\n\u001b[0;32m      5\u001b[0m plt\u001b[38;5;241m.\u001b[39msubplot(\u001b[38;5;241m1\u001b[39m, \u001b[38;5;241m3\u001b[39m, \u001b[38;5;241m1\u001b[39m)\n",
      "\u001b[1;31mNameError\u001b[0m: name 'plt' is not defined"
     ]
    }
   ],
   "source": []
  },
  {
   "cell_type": "markdown",
   "metadata": {},
   "source": [
    "增强之后十分之一训练（无高斯噪声）"
   ]
  },
  {
   "cell_type": "code",
   "execution_count": 1,
   "metadata": {},
   "outputs": [
    {
     "name": "stderr",
     "output_type": "stream",
     "text": [
      "C:\\Users\\30419\\AppData\\Local\\Packages\\PythonSoftwareFoundation.Python.3.11_qbz5n2kfra8p0\\LocalCache\\local-packages\\Python311\\site-packages\\torchvision\\models\\_utils.py:208: UserWarning: The parameter 'pretrained' is deprecated since 0.13 and may be removed in the future, please use 'weights' instead.\n",
      "  warnings.warn(\n",
      "C:\\Users\\30419\\AppData\\Local\\Packages\\PythonSoftwareFoundation.Python.3.11_qbz5n2kfra8p0\\LocalCache\\local-packages\\Python311\\site-packages\\torchvision\\models\\_utils.py:223: UserWarning: Arguments other than a weight enum or `None` for 'weights' are deprecated since 0.13 and may be removed in the future. The current behavior is equivalent to passing `weights=ResNet34_Weights.IMAGENET1K_V1`. You can also use `weights=ResNet34_Weights.DEFAULT` to get the most up-to-date weights.\n",
      "  warnings.warn(msg)\n"
     ]
    },
    {
     "name": "stdout",
     "output_type": "stream",
     "text": [
      "[2025-05-03 20:30:34] --- Epoch [1/5] ---\n"
     ]
    },
    {
     "name": "stderr",
     "output_type": "stream",
     "text": [
      "Training Epoch 1: 100%|████████████████████| 152/152 [00:57<00:00,  2.67it/s, acc=0.674, loss=0.373]\n"
     ]
    },
    {
     "name": "stdout",
     "output_type": "stream",
     "text": [
      "[2025-05-03 20:31:31] Epoch [1/5] Complete - Loss: 1.3416, Accuracy: 0.6744\n",
      "[2025-05-03 20:31:31] --- Epoch [2/5] ---\n"
     ]
    },
    {
     "name": "stderr",
     "output_type": "stream",
     "text": [
      "Training Epoch 2: 100%|████████████████████| 152/152 [00:56<00:00,  2.71it/s, acc=0.973, loss=0.197]\n"
     ]
    },
    {
     "name": "stdout",
     "output_type": "stream",
     "text": [
      "[2025-05-03 20:32:27] Epoch [2/5] Complete - Loss: 0.1727, Accuracy: 0.9726\n",
      "[2025-05-03 20:32:27] --- Epoch [3/5] ---\n"
     ]
    },
    {
     "name": "stderr",
     "output_type": "stream",
     "text": [
      "Training Epoch 3: 100%|███████████████████| 152/152 [00:42<00:00,  3.54it/s, acc=0.996, loss=0.0215]\n"
     ]
    },
    {
     "name": "stdout",
     "output_type": "stream",
     "text": [
      "[2025-05-03 20:33:09] Epoch [3/5] Complete - Loss: 0.0404, Accuracy: 0.9965\n",
      "[2025-05-03 20:33:09] --- Epoch [4/5] ---\n"
     ]
    },
    {
     "name": "stderr",
     "output_type": "stream",
     "text": [
      "Training Epoch 4: 100%|███████████████████| 152/152 [00:53<00:00,  2.84it/s, acc=0.999, loss=0.0187]\n"
     ]
    },
    {
     "name": "stdout",
     "output_type": "stream",
     "text": [
      "[2025-05-03 20:34:03] Epoch [4/5] Complete - Loss: 0.0173, Accuracy: 0.9986\n",
      "[2025-05-03 20:34:03] --- Epoch [5/5] ---\n"
     ]
    },
    {
     "name": "stderr",
     "output_type": "stream",
     "text": [
      "Training Epoch 5: 100%|███████████████████████| 152/152 [00:37<00:00,  4.07it/s, acc=1, loss=0.0172]\n"
     ]
    },
    {
     "name": "stdout",
     "output_type": "stream",
     "text": [
      "[2025-05-03 20:34:40] Epoch [5/5] Complete - Loss: 0.0084, Accuracy: 1.0000\n",
      "[2025-05-03 20:34:40] Saved model at ./check_improve_strong_34\\resnet34_epoch5.pth\n",
      "[2025-05-03 20:34:56] Test Accuracy at Epoch 5: 0.8295\n"
     ]
    },
    {
     "data": {
      "image/png": "[encoded data removed]",
      "text/plain": [
       "<Figure size 1200x500 with 2 Axes>"
      ]
     },
     "metadata": {},
     "output_type": "display_data"
    },
    {
     "data": {
      "image/png": "[encoded data removed]",
      "text/plain": [
       "<Figure size 640x480 with 1 Axes>"
      ]
     },
     "metadata": {},
     "output_type": "display_data"
    }
   ],
   "source": [
    "import os\n",
    "import torch\n",
    "import torch.nn as nn\n",
    "from torchvision import datasets, models, transforms\n",
    "from torch.utils.data import DataLoader\n",
    "import matplotlib.pyplot as plt\n",
    "from datetime import datetime\n",
    "import glob\n",
    "from tqdm import tqdm\n",
    "\n",
    "# ==== 设置路径 ====\n",
    "data_dir = \"\"  # 请设置为你的数据路径（包含 train/val/test）\n",
    "model_dir = \"./check_improve_strong_34\"\n",
    "os.makedirs(model_dir, exist_ok=True)\n",
    "log_path = os.path.join(model_dir, \"train_log.txt\")\n",
    "\n",
    "# ==== 清空旧日志 ====\n",
    "open(log_path, \"w\").close()\n",
    "\n",
    "# ==== 日志函数 ====\n",
    "def write_log(msg):\n",
    "    timestamp = f\"[{datetime.now().strftime('%Y-%m-%d %H:%M:%S')}]\"\n",
    "    full_msg = f\"{timestamp} {msg}\"\n",
    "    with open(log_path, \"a\") as f:\n",
    "        f.write(full_msg + \"\\n\")\n",
    "    print(full_msg)\n",
    "\n",
    "# ==== 数据预处理 ====\n",
    "transform = transforms.Compose([\n",
    "    transforms.Resize((224, 224)),\n",
    "    transforms.ToTensor(),\n",
    "])\n",
    "\n",
    "train_loader = DataLoader(datasets.ImageFolder(os.path.join(data_dir, 'train_aug_strong'), transform), batch_size=32, shuffle=True)\n",
    "val_loader = DataLoader(datasets.ImageFolder(os.path.join(data_dir, 'val'), transform), batch_size=32, shuffle=False)\n",
    "test_loader = DataLoader(datasets.ImageFolder(os.path.join(data_dir, 'test'), transform), batch_size=32, shuffle=False)\n",
    "\n",
    "class_names = train_loader.dataset.classes\n",
    "device = torch.device(\"cuda\" if torch.cuda.is_available() else \"cpu\")\n",
    "\n",
    "# ==== 初始化模型 ====\n",
    "model = models.resnet34(pretrained=True)\n",
    "model.fc = nn.Linear(model.fc.in_features, len(class_names))\n",
    "model = model.to(device)\n",
    "criterion = nn.CrossEntropyLoss()\n",
    "optimizer = torch.optim.Adam(model.parameters(), lr=1e-4)\n",
    "\n",
    "# ==== 记录训练信息 ====\n",
    "train_losses = []\n",
    "train_accuracies = []\n",
    "test_accuracies = []\n",
    "\n",
    "# ==== 测试函数 ====\n",
    "def evaluate_model(model, loader):\n",
    "    model.eval()\n",
    "    correct, total = 0, 0\n",
    "    with torch.no_grad():\n",
    "        for inputs, labels in loader:\n",
    "            inputs, labels = inputs.to(device), labels.to(device)\n",
    "            outputs = model(inputs)\n",
    "            _, preds = torch.max(outputs, 1)\n",
    "            correct += (preds == labels).sum().item()\n",
    "            total += labels.size(0)\n",
    "    return correct / total\n",
    "\n",
    "# ==== 训练模型 ====\n",
    "num_epochs = 5  # 可根据需要修改\n",
    "for epoch in range(num_epochs):\n",
    "    model.train()\n",
    "    running_loss, correct, total = 0.0, 0, 0\n",
    "\n",
    "    write_log(f\"--- Epoch [{epoch+1}/{num_epochs}] ---\")\n",
    "    progress_bar = tqdm(train_loader, desc=f\"Training Epoch {epoch+1}\", ncols=100)\n",
    "\n",
    "    for inputs, labels in progress_bar:\n",
    "        inputs, labels = inputs.to(device), labels.to(device)\n",
    "        optimizer.zero_grad()\n",
    "        outputs = model(inputs)\n",
    "        loss = criterion(outputs, labels)\n",
    "        loss.backward()\n",
    "        optimizer.step()\n",
    "\n",
    "        running_loss += loss.item()\n",
    "        _, preds = torch.max(outputs, 1)\n",
    "        correct += (preds == labels).sum().item()\n",
    "        total += labels.size(0)\n",
    "\n",
    "        progress_bar.set_postfix(loss=loss.item(), acc=correct / total)\n",
    "\n",
    "    epoch_loss = running_loss / len(train_loader)\n",
    "    epoch_acc = correct / total\n",
    "    train_losses.append(epoch_loss)\n",
    "    train_accuracies.append(epoch_acc)\n",
    "\n",
    "    write_log(f\"Epoch [{epoch+1}/{num_epochs}] Complete - Loss: {epoch_loss:.4f}, Accuracy: {epoch_acc:.4f}\")\n",
    "\n",
    "    # 每两轮保存一次模型并在test集评估\n",
    "    if (epoch + 1) % 5 == 0:\n",
    "        save_path = os.path.join(model_dir, f\"resnet34_epoch{epoch+1}.pth\")\n",
    "        torch.save(model.state_dict(), save_path)\n",
    "        write_log(f\"Saved model at {save_path}\")\n",
    "\n",
    "        test_acc = evaluate_model(model, test_loader)\n",
    "        test_accuracies.append((epoch + 1, test_acc))\n",
    "        write_log(f\"Test Accuracy at Epoch {epoch+1}: {test_acc:.4f}\")\n",
    "\n",
    "# ==== 绘制训练曲线 ====\n",
    "plt.figure(figsize=(12, 5))\n",
    "plt.subplot(1, 2, 1)\n",
    "plt.plot(range(1, num_epochs + 1), train_losses, marker='o')\n",
    "plt.title(\"Training Loss per Epoch\")\n",
    "plt.xlabel(\"Epoch\")\n",
    "plt.ylabel(\"Loss\")\n",
    "plt.grid(True)\n",
    "\n",
    "plt.subplot(1, 2, 2)\n",
    "plt.plot(range(1, num_epochs + 1), train_accuracies, marker='o', color='green')\n",
    "plt.title(\"Training Accuracy per Epoch\")\n",
    "plt.xlabel(\"Epoch\")\n",
    "plt.ylabel(\"Accuracy\")\n",
    "plt.grid(True)\n",
    "plt.tight_layout()\n",
    "plt.savefig(\"train_loss_accuracy_curve.png\")\n",
    "plt.show()\n",
    "\n",
    "# ==== 绘制Test准确率曲线 ====\n",
    "if test_accuracies:\n",
    "    epochs, test_accs = zip(*test_accuracies)\n",
    "    plt.figure()\n",
    "    plt.plot(epochs, test_accs, marker='o', color='red')\n",
    "    plt.title(\"Test Accuracy per Saved Model\")\n",
    "    plt.xlabel(\"Epoch\")\n",
    "    plt.ylabel(\"Test Accuracy\")\n",
    "    plt.grid(True)\n",
    "    plt.savefig(\"test_accuracy_curve.png\")\n",
    "    plt.show()\n"
   ]
  }
 ],
 "metadata": {
  "kernelspec": {
   "display_name": "Python 3",
   "language": "python",
   "name": "python3"
  },
  "language_info": {
   "codemirror_mode": {
    "name": "ipython",
    "version": 3
   },
   "file_extension": ".py",
   "mimetype": "text/x-python",
   "name": "python",
   "nbconvert_exporter": "python",
   "pygments_lexer": "ipython3",
   "version": "3.11.9"
  }
 },
 "nbformat": 4,
 "nbformat_minor": 2
}
